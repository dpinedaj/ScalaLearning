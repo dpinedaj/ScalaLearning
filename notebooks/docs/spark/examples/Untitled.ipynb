{
 "cells": [
  {
   "cell_type": "code",
   "execution_count": 1,
   "metadata": {},
   "outputs": [
    {
     "data": {
      "text/plain": [
       "\u001b[32mimport \u001b[39m\u001b[36m$ivy.$                                  \u001b[39m"
      ]
     },
     "execution_count": 1,
     "metadata": {},
     "output_type": "execute_result"
    }
   ],
   "source": [
    "import $ivy.`org.apache.spark::spark-sql:2.4.0`"
   ]
  },
  {
   "cell_type": "code",
   "execution_count": 12,
   "metadata": {},
   "outputs": [
    {
     "data": {
      "text/plain": [
       "\u001b[32mimport \u001b[39m\u001b[36morg.apache.spark.SparkContext\n",
       "//Deactivate logger for clearer outputs\n",
       "\u001b[39m\n",
       "\u001b[32mimport \u001b[39m\u001b[36morg.apache.log4j.{Level, Logger}\n",
       "\u001b[39m"
      ]
     },
     "execution_count": 12,
     "metadata": {},
     "output_type": "execute_result"
    }
   ],
   "source": [
    "import org.apache.spark.SparkContext\n",
    "//Deactivate logger for clearer outputs\n",
    "import org.apache.log4j.{Level, Logger}\n",
    "Logger.getLogger(\"org\").setLevel(Level.OFF)"
   ]
  },
  {
   "cell_type": "code",
   "execution_count": 13,
   "metadata": {
    "collapsed": true
   },
   "outputs": [
    {
     "ename": "",
     "evalue": "",
     "output_type": "error",
     "traceback": [
      "\u001b[31morg.apache.spark.SparkException: Only one SparkContext may be running in this JVM (see SPARK-2243). To ignore this error, set spark.driver.allowMultipleContexts = true. The currently running SparkContext was created at:\norg.apache.spark.SparkContext.<init>(SparkContext.scala:145)\nammonite.$sess.cmd2$Helper.<init>(cmd2.sc:1)\nammonite.$sess.cmd2$.<init>(cmd2.sc:7)\nammonite.$sess.cmd2$.<clinit>(cmd2.sc)\nammonite.$sess.cmd2.$main(cmd2.sc)\nsun.reflect.NativeMethodAccessorImpl.invoke0(Native Method)\nsun.reflect.NativeMethodAccessorImpl.invoke(NativeMethodAccessorImpl.java:62)\nsun.reflect.DelegatingMethodAccessorImpl.invoke(DelegatingMethodAccessorImpl.java:43)\njava.lang.reflect.Method.invoke(Method.java:498)\nammonite.runtime.Evaluator$$anon$1.$anonfun$evalMain$1(Evaluator.scala:108)\nammonite.util.Util$.withContextClassloader(Util.scala:24)\nammonite.runtime.Evaluator$$anon$1.evalMain(Evaluator.scala:90)\nammonite.runtime.Evaluator$$anon$1.$anonfun$processLine$2(Evaluator.scala:127)\nammonite.util.Catching.map(Res.scala:117)\nammonite.runtime.Evaluator$$anon$1.$anonfun$processLine$1(Evaluator.scala:121)\nammonite.util.Res$Success.flatMap(Res.scala:62)\nammonite.runtime.Evaluator$$anon$1.processLine(Evaluator.scala:120)\nammonite.interp.Interpreter.$anonfun$evaluateLine$4(Interpreter.scala:296)\nammonite.util.Res$Success.flatMap(Res.scala:62)\nammonite.interp.Interpreter.$anonfun$evaluateLine$2(Interpreter.scala:282)\u001b[39m\n  org.apache.spark.SparkContext$.$anonfun$assertNoOtherContextIsRunning$2(\u001b[32mSparkContext.scala\u001b[39m:\u001b[32m2483\u001b[39m)\n  org.apache.spark.SparkContext$.$anonfun$assertNoOtherContextIsRunning$2$adapted(\u001b[32mSparkContext.scala\u001b[39m:\u001b[32m2479\u001b[39m)\n  scala.Option.foreach(\u001b[32mOption.scala\u001b[39m:\u001b[32m407\u001b[39m)\n  org.apache.spark.SparkContext$.assertNoOtherContextIsRunning(\u001b[32mSparkContext.scala\u001b[39m:\u001b[32m2479\u001b[39m)\n  org.apache.spark.SparkContext$.markPartiallyConstructed(\u001b[32mSparkContext.scala\u001b[39m:\u001b[32m2568\u001b[39m)\n  org.apache.spark.SparkContext.<init>(\u001b[32mSparkContext.scala\u001b[39m:\u001b[32m85\u001b[39m)\n  org.apache.spark.SparkContext.<init>(\u001b[32mSparkContext.scala\u001b[39m:\u001b[32m145\u001b[39m)\n  ammonite.$sess.cmd12$Helper.<init>(\u001b[32mcmd12.sc\u001b[39m:\u001b[32m1\u001b[39m)\n  ammonite.$sess.cmd12$.<init>(\u001b[32mcmd12.sc\u001b[39m:\u001b[32m7\u001b[39m)\n  ammonite.$sess.cmd12$.<clinit>(\u001b[32mcmd12.sc\u001b[39m:\u001b[32m-1\u001b[39m)"
     ]
    }
   ],
   "source": [
    "val sc: SparkContext = new SparkContext(\"local[1]\", \"Examples\")"
   ]
  },
  {
   "cell_type": "code",
   "execution_count": 14,
   "metadata": {
    "collapsed": true
   },
   "outputs": [
    {
     "data": {
      "text/plain": [
       "\u001b[36mdata\u001b[39m: \u001b[32mSeq\u001b[39m[(\u001b[32mString\u001b[39m, \u001b[32mInt\u001b[39m)] = \u001b[33mList\u001b[39m(\n",
       "  (\u001b[32m\"one\"\u001b[39m, \u001b[32m1\u001b[39m),\n",
       "  (\u001b[32m\"two\"\u001b[39m, \u001b[32m2\u001b[39m),\n",
       "  (\u001b[32m\"three\"\u001b[39m, \u001b[32m3\u001b[39m),\n",
       "  (\u001b[32m\"four\"\u001b[39m, \u001b[32m4\u001b[39m),\n",
       "  (\u001b[32m\"five\"\u001b[39m, \u001b[32m5\u001b[39m),\n",
       "  (\u001b[32m\"six\"\u001b[39m, \u001b[32m6\u001b[39m),\n",
       "  (\u001b[32m\"seven\"\u001b[39m, \u001b[32m7\u001b[39m),\n",
       "  (\u001b[32m\"eight\"\u001b[39m, \u001b[32m8\u001b[39m),\n",
       "  (\u001b[32m\"nine\"\u001b[39m, \u001b[32m9\u001b[39m)\n",
       ")\n",
       "\u001b[36mrdd\u001b[39m: \u001b[32morg\u001b[39m.\u001b[32mapache\u001b[39m.\u001b[32mspark\u001b[39m.\u001b[32mrdd\u001b[39m.\u001b[32mRDD\u001b[39m[(\u001b[32mString\u001b[39m, \u001b[32mInt\u001b[39m)] = ParallelCollectionRDD[7] at parallelize at cmd13.sc:11"
      ]
     },
     "execution_count": 14,
     "metadata": {},
     "output_type": "execute_result"
    }
   ],
   "source": [
    "val data = Seq(\n",
    "(\"one\", 1),\n",
    "(\"two\", 2),\n",
    "(\"three\",3),\n",
    "(\"four\", 4),\n",
    "(\"five\", 5),\n",
    "(\"six\", 6),\n",
    "(\"seven\", 7),\n",
    "(\"eight\", 8),\n",
    "(\"nine\", 9))\n",
    "val rdd = sc.parallelize(data)"
   ]
  },
  {
   "cell_type": "code",
   "execution_count": 16,
   "metadata": {
    "scrolled": false
   },
   "outputs": [
    {
     "name": "stdout",
     "output_type": "stream",
     "text": [
      "(one,1)\n",
      "(two,1, 4)\n",
      "(three,1, 4, 9)\n",
      "(four,1, 4, 9, 16)\n",
      "(five,1, 4, 9, 16, 25)\n",
      "(six,1, 4, 9, 16, 25, 36)\n",
      "(seven,1, 4, 9, 16, 25, 36, 49)\n",
      "(eight,1, 4, 9, 16, 25, 36, 49, 64)\n",
      "(nine,1, 4, 9, 16, 25, 36, 49, 64, 81)\n"
     ]
    }
   ],
   "source": [
    "rdd.map {\n",
    "    x => (x._1, (1 to x._2).map(i => i*i).mkString(\", \"))\n",
    "}.foreach(println)"
   ]
  },
  {
   "cell_type": "code",
   "execution_count": null,
   "metadata": {},
   "outputs": [],
   "source": []
  }
 ],
 "metadata": {
  "kernelspec": {
   "display_name": "Scala 2.12",
   "language": "scala",
   "name": "scala212"
  },
  "language_info": {
   "codemirror_mode": "text/x-scala",
   "file_extension": ".scala",
   "mimetype": "text/x-scala",
   "name": "scala",
   "nbconvert_exporter": "script",
   "version": "2.12.10"
  }
 },
 "nbformat": 4,
 "nbformat_minor": 4
}
