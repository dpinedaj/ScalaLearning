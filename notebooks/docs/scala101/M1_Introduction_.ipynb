{
 "cells": [
  {
   "cell_type": "markdown",
   "metadata": {},
   "source": [
    " <div class=\"alert alert-block alert-info\" style=\"margin-top: 20px\">\n",
    " <a href=\"http://cocl.us/SC0101ENNotebookadd\"><img src = \"https://ibm.box.com/shared/static/kr8cc5o4va552yrgo83j54mishtgzj2n.png\" width = 750, align = \"center\"></a>\n",
    "\n",
    "\n",
    "\n",
    "<h1 align=center><font size = 5>Product Link</font></h1> "
   ]
  },
  {
   "cell_type": "markdown",
   "metadata": {},
   "source": [
    " <a href=\"https://www.bigdatauniversity.com\"><img src = \"https://ibm.box.com/shared/static/ugcqz6ohbvff804xp84y4kqnvvk3bq1g.png\" width = 500, align = \"center\"></a>\n",
    "\n",
    "<h1 align=center><font size = 5>Scala 101</font></h1>"
   ]
  },
  {
   "cell_type": "markdown",
   "metadata": {},
   "source": [
    "## Module 1: Introduction "
   ]
  },
  {
   "cell_type": "markdown",
   "metadata": {},
   "source": [
    "### All labs are written in notebooks instead of ripples. The operations are similar, and you can always come back and see what you did previously.  There are some subtle differences but nothing major.  Let's go over a few examples  in the first  module \n"
   ]
  },
  {
   "cell_type": "markdown",
   "metadata": {},
   "source": [
    "### Using Notebooks instead of the ripple "
   ]
  },
  {
   "cell_type": "markdown",
   "metadata": {},
   "source": [
    " Like in the video, you can create data, for example, you can generate a sequence of numbers:"
   ]
  },
  {
   "cell_type": "code",
   "execution_count": null,
   "metadata": {},
   "outputs": [],
   "source": [
    "1 to 10"
   ]
  },
  {
   "cell_type": "markdown",
   "metadata": {},
   "source": [
    "We can increase the value of the element of each number by using the map function as illustrated in the following figure:  \n"
   ]
  },
  {
   "cell_type": "markdown",
   "metadata": {},
   "source": [
    "<a ><img src = \"https://ibm.box.com/shared/static/tvvopmvs9zzv8lxeh8s3vlet5j3jcm2x.png\" width = 1000, align = \"center\"></a>\n",
    "\n",
    "<h1 align=center><font size = 4>Example of the map in function </h1>"
   ]
  },
  {
   "cell_type": "markdown",
   "metadata": {},
   "source": [
    "It just takes one line of code: \n"
   ]
  },
  {
   "cell_type": "code",
   "execution_count": null,
   "metadata": {},
   "outputs": [],
   "source": [
    "(1 to 10).map(x => x + 1)"
   ]
  },
  {
   "cell_type": "markdown",
   "metadata": {},
   "source": [
    " The variable \"res0\" does not exist in the notebook. However, we can explicitly bind a name to a value by using the familiar `=` syntax. The declaration `val a = 1 to 10` says that we want to bind the result of `1 to 10` to the name `a`. It is important to note that when we use `val` we're creating an immutable value. This is the reason why we call it a binding rather than assignment. Once we bind a name to a value, that name cannot be re-bound to the a different value in the same scope, even if the types are the same. You can try this out below. Try to bind a different value to `a`. To do this complete change the line that just contains `a` to be `a = 10 to 15` and observe the compiler error."
   ]
  },
  {
   "cell_type": "code",
   "execution_count": null,
   "metadata": {},
   "outputs": [],
   "source": [
    "val a = 1 to 10\n",
    "//sometimes If you don't leave the variable at the end you will not display the results \n",
    "a"
   ]
  },
  {
   "cell_type": "markdown",
   "metadata": {},
   "source": [
    "Functions do not mutate the objects they are call on. For instance you can call the `map` function on `a`. This will return a new value."
   ]
  },
  {
   "cell_type": "code",
   "execution_count": null,
   "metadata": {},
   "outputs": [],
   "source": [
    "a.map(x => x + 1)"
   ]
  },
  {
   "cell_type": "markdown",
   "metadata": {},
   "source": [
    "the variable `a` has not changed. We have just returned a new value."
   ]
  },
  {
   "cell_type": "code",
   "execution_count": null,
   "metadata": {},
   "outputs": [],
   "source": [
    "a"
   ]
  },
  {
   "cell_type": "markdown",
   "metadata": {},
   "source": [
    "In order to be able to re-assign values to a name you can use the `var` syntax."
   ]
  },
  {
   "cell_type": "code",
   "execution_count": null,
   "metadata": {},
   "outputs": [],
   "source": [
    "var b = a.map(x => x + 1)\n",
    "b"
   ]
  },
  {
   "cell_type": "markdown",
   "metadata": {},
   "source": [
    "Since we declared `b` to be a mutable `var` rather than an immutable `val` we can assign values to it more than once. For instance,"
   ]
  },
  {
   "cell_type": "code",
   "execution_count": null,
   "metadata": {},
   "outputs": [],
   "source": [
    "b=1 to 10\n",
    "b"
   ]
  },
  {
   "cell_type": "markdown",
   "metadata": {},
   "source": [
    "Note that assigning values multiple times to a single `var`, they have to be the same type. Try assigning a value of type `String` to `b` and observe what happens. To do this, change the line containing `b` to read `b = \"hello there` and observe the error."
   ]
  },
  {
   "cell_type": "code",
   "execution_count": null,
   "metadata": {},
   "outputs": [],
   "source": [
    "b"
   ]
  },
  {
   "cell_type": "markdown",
   "metadata": {},
   "source": [
    "In general, prefer using `val` to `var`. It is much easier to understand and think about code when we do not have to consider that it may be mutated by some operation. Working without mutation makes writing multi-threaded programs significantly easier. "
   ]
  },
  {
   "cell_type": "markdown",
   "metadata": {},
   "source": [
    "<hr>\n",
    "Copyright &copy; 2017 [cognitiveclass.ai](cognitiveclass.ai?utm_source=bducopyrightlink&utm_medium=dswb&utm_campaign=bdu). This notebook and its source code are released under the terms of the [MIT License](https://bigdatauniversity.com/mit-license/).​"
   ]
  },
  {
   "cell_type": "markdown",
   "metadata": {},
   "source": [
    "### About the Authors:  \n",
    "\n",
    "\n",
    " [Joseph Santarcangelo]( https://www.linkedin.com/in/joseph-s-50398b136/) has a PhD in Electrical Engineering, his research focused on using machine learning, signal processing, and computer vision to determine how videos impact human cognition. Joseph has been working for IBM since he completed his PhD.\n",
    "\n"
   ]
  }
 ],
 "metadata": {
  "kernelspec": {
   "display_name": "Apache Toree - Scala",
   "language": "scala",
   "name": "apache_toree_scala"
  },
  "language_info": {
   "codemirror_mode": "text/x-scala",
   "file_extension": ".scala",
   "mimetype": "text/x-scala",
   "name": "scala",
   "pygments_lexer": "scala",
   "version": "2.11.12"
  }
 },
 "nbformat": 4,
 "nbformat_minor": 4
}
