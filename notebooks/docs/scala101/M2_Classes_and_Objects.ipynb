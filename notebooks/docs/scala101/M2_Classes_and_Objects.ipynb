{
 "cells": [
  {
   "cell_type": "markdown",
   "metadata": {},
   "source": [
    " <div class=\"alert alert-block alert-info\" style=\"margin-top: 20px\">\n",
    " <a href=\"http://cocl.us/SC0101ENNotebookadd\"><img src = \"https://ibm.box.com/shared/static/kr8cc5o4va552yrgo83j54mishtgzj2n.png\" width = 750, align = \"center\"></a>\n",
    "\n",
    "\n",
    "\n"
   ]
  },
  {
   "cell_type": "markdown",
   "metadata": {},
   "source": [
    " <a href=\"https://www.bigdatauniversity.com\"><img src = \"https://ibm.box.com/shared/static/ugcqz6ohbvff804xp84y4kqnvvk3bq1g.png\" width = 300, align = \"center\"></a>\n",
    "\n",
    "<h1 align=center><font size = 5>Scala 101</font></h1>"
   ]
  },
  {
   "cell_type": "markdown",
   "metadata": {
    "collapsed": true
   },
   "source": [
    "# Module 2  Basic Object Oriented Programming"
   ]
  },
  {
   "cell_type": "markdown",
   "metadata": {},
   "source": [
    "## Table of contents\n",
    "\n",
    "<div class=\"alert alert-block alert-info\" style=\"margin-top: 20px\">\n",
    "<li><a href=\"#ref1\">Classes </a>\n",
    "<li><a href=\"#ref2\">Immutable and Mutable Fields </a>\n",
    "<li><a href=\"#ref3\">Methods </a>\n",
    "<li><a href=\"#ref4\">Default and Named Arguments </a>\n",
    "<li><a href=\"#ref5\">Objects  </a>\n",
    "\n",
    "\n",
    "\n",
    "<p></p>\n",
    "Estimated Time Needed: <strong>30 min</strong>\n",
    "</div>"
   ]
  },
  {
   "cell_type": "markdown",
   "metadata": {},
   "source": [
    "<a id=\"ref1\"></a>\n",
    "\n",
    "# 2.1  Classes"
   ]
  },
  {
   "cell_type": "markdown",
   "metadata": {},
   "source": [
    "### By the end of this section you should be able to:\n",
    "\n",
    "<ul>\n",
    "  <li> Create a class in Scala  </li>\n",
    "  <li> Create a class with parameters   </li>\n",
    "  <li> Create an instance of a class (aka object)  </li>\n",
    "</ul>  \n"
   ]
  },
  {
   "cell_type": "markdown",
   "metadata": {},
   "source": [
    "### Create a new class hello: "
   ]
  },
  {
   "cell_type": "markdown",
   "metadata": {},
   "source": [
    "We can create a class \"Hello\" as follows "
   ]
  },
  {
   "cell_type": "code",
   "execution_count": null,
   "metadata": {},
   "outputs": [],
   "source": [
    "class Hello"
   ]
  },
  {
   "cell_type": "markdown",
   "metadata": {},
   "source": [
    " We can create an instance of the class of  type \"Hello\": "
   ]
  },
  {
   "cell_type": "code",
   "execution_count": null,
   "metadata": {},
   "outputs": [],
   "source": [
    "new Hello()"
   ]
  },
  {
   "cell_type": "markdown",
   "metadata": {},
   "source": [
    " This output is the location of the instance of the class inside the JVM , Hello() is Sometimes called the class constructor. "
   ]
  },
  {
   "cell_type": "markdown",
   "metadata": {
    "collapsed": true
   },
   "source": [
    " Lets call a method that converts the instance to a string. We will go more in to methods later on:"
   ]
  },
  {
   "cell_type": "code",
   "execution_count": null,
   "metadata": {},
   "outputs": [],
   "source": [
    "(new Hello() ).toString()"
   ]
  },
  {
   "cell_type": "markdown",
   "metadata": {},
   "source": [
    "## The body of a class    "
   ]
  },
  {
   "cell_type": "markdown",
   "metadata": {},
   "source": [
    "The body of the class is contained in two curly brackets as shown below:"
   ]
  },
  {
   "cell_type": "markdown",
   "metadata": {},
   "source": [
    "\n",
    "<center> <font size=\"10\" color=\"green\">class </font> <font size=\"10\" color=\"blue\">Hello</font><font size=\"10\" >{</font><font size=\"10\" color=\"red\"> Body of a Class    </font><font size=\"10\" >}</font></center>"
   ]
  },
  {
   "cell_type": "markdown",
   "metadata": {},
   "source": [
    "Anything in the body will run when an instance of the class is created, For example, we can create the class hello, in the body we can put a statement in the class to print out “hello” : "
   ]
  },
  {
   "cell_type": "code",
   "execution_count": null,
   "metadata": {},
   "outputs": [],
   "source": [
    "class Hello {print(\"hello\")}"
   ]
  },
  {
   "cell_type": "markdown",
   "metadata": {},
   "source": [
    " When we create a new instance of the class hello, the new object runs the statement and prints out \"hello\" "
   ]
  },
  {
   "cell_type": "code",
   "execution_count": null,
   "metadata": {},
   "outputs": [],
   "source": [
    "new Hello()"
   ]
  },
  {
   "cell_type": "markdown",
   "metadata": {},
   "source": [
    "## Class Parameters "
   ]
  },
  {
   "cell_type": "markdown",
   "metadata": {},
   "source": [
    "You can pass values into a class using parameters, parameters are placed inside the parentheses following  the class name as shown here:"
   ]
  },
  {
   "cell_type": "markdown",
   "metadata": {},
   "source": [
    " <center> <font size=\"10\" color=\"green\">class </font> <font size=\"10\" color=\"blue\">Hello</font><font size=\"10\" ><font size=\"10\" >(</font><font size=\"10\" color=\"red\"> Parameters  </font><font size=\"10\" > <font size=\"10\" >)</font>{</font><font size=\"10\" color=\"red\"> Body of a Class    </font><font size=\"10\" >}</font></center>\n"
   ]
  },
  {
   "cell_type": "markdown",
   "metadata": {},
   "source": [
    "You must specify the type of the parameters, for example we have the class \"Hello\", the parameter is a message of type string.  We can use the parameter in the body of the class but the parameter is not visible outside the class "
   ]
  },
  {
   "cell_type": "code",
   "execution_count": null,
   "metadata": {},
   "outputs": [],
   "source": [
    "class Hello( message:String){\n",
    "    \n",
    "    println(message)\n",
    "    \n",
    "}"
   ]
  },
  {
   "cell_type": "markdown",
   "metadata": {},
   "source": [
    " We can use the parameter in the body of the class, for example we print out the value of \"message\". When we create an instance of the class we will not have access to the parameter outside the instance:"
   ]
  },
  {
   "cell_type": "code",
   "execution_count": null,
   "metadata": {},
   "outputs": [],
   "source": [
    "new Hello(\"what up\")"
   ]
  },
  {
   "cell_type": "markdown",
   "metadata": {},
   "source": [
    "We do not have access to the parameters:"
   ]
  },
  {
   "cell_type": "code",
   "execution_count": null,
   "metadata": {},
   "outputs": [],
   "source": [
    "(new Hello(\"what up\")).message"
   ]
  },
  {
   "cell_type": "markdown",
   "metadata": {},
   "source": [
    " If a class has parameter values and  we create an instance of that class  without any parameter values we get an error:"
   ]
  },
  {
   "cell_type": "code",
   "execution_count": null,
   "metadata": {},
   "outputs": [],
   "source": [
    "new Hello()"
   ]
  },
  {
   "cell_type": "markdown",
   "metadata": {},
   "source": [
    "class parameters are not accessible "
   ]
  },
  {
   "cell_type": "markdown",
   "metadata": {},
   "source": [
    " <div class=\"alert alert-danger alertdanger\" style=\"margin-top: 20px\">\n",
    "<h1> Question  2.1: </h1>\n",
    "<p> \n",
    "Create an instance of the class Hello, set the parameter message to “Hi” .</b>\n",
    "</p>\n",
    "</div>"
   ]
  },
  {
   "cell_type": "code",
   "execution_count": null,
   "metadata": {},
   "outputs": [],
   "source": []
  },
  {
   "cell_type": "markdown",
   "metadata": {},
   "source": [
    " <div align=\"right\">\n",
    "<a href=\"#q1a\" class=\"btn btn-default\" data-toggle=\"collapse\">Click here for the solution</a>\n",
    "\n",
    "</div>\n",
    "<div id=\"q1a\" class=\"collapse\">\n",
    "```\n",
    "new Hello(\"Hi\")\n",
    "```\n",
    "</div>"
   ]
  },
  {
   "cell_type": "markdown",
   "metadata": {},
   "source": [
    "<a id=\"ref2\"></a>\n",
    "\n",
    "# 2.2 Immutable and Mutable Fields "
   ]
  },
  {
   "cell_type": "markdown",
   "metadata": {},
   "source": [
    "### By the end of this section you should be able to:\n",
    "\n",
    "<ul>\n",
    "  <li>Describe the difference between mutable and immutable fields </li>\n",
    "  <li>create fields in Scala classes</li>\n",
    "  <li>describe the difference between class parameters and fields  </li>\n",
    "   <li>outline how to promote class parameters to fields  </li>\n",
    "</ul>  \n"
   ]
  },
  {
   "cell_type": "markdown",
   "metadata": {},
   "source": [
    " A Field is a value inside an instance of a class, it represents the state of the instance. Unlike parameters fields are inside the body of the class and accessible outside the instance of a class unless specified.  "
   ]
  },
  {
   "cell_type": "markdown",
   "metadata": {},
   "source": [
    "### Immutable fields "
   ]
  },
  {
   "cell_type": "markdown",
   "metadata": {},
   "source": [
    "Immutable fields cannot be changed, we use the “val” keyword to indicate the field is immutable.  We can create a class hello, with the field “message” in the body:"
   ]
  },
  {
   "cell_type": "code",
   "execution_count": null,
   "metadata": {},
   "outputs": [],
   "source": [
    "class Hello1{val message=\"hello\"}"
   ]
  },
  {
   "cell_type": "markdown",
   "metadata": {},
   "source": [
    "We can create an instance of the object Hello1 and access the field “message “ by using the dot notation :"
   ]
  },
  {
   "cell_type": "code",
   "execution_count": null,
   "metadata": {},
   "outputs": [],
   "source": [
    "(new Hello1).message "
   ]
  },
  {
   "cell_type": "markdown",
   "metadata": {},
   "source": [
    " Mutable fields can be changed, we use the “var” keyword to indicate the field is mutable. We can create a class hello, with the field “message” in the body: "
   ]
  },
  {
   "cell_type": "code",
   "execution_count": null,
   "metadata": {},
   "outputs": [],
   "source": [
    "class Hello2{var message=\"hello\"}"
   ]
  },
  {
   "cell_type": "markdown",
   "metadata": {},
   "source": [
    " We can create an instance of the object Hello2 and access the field “message “ by using the dot notation :"
   ]
  },
  {
   "cell_type": "code",
   "execution_count": null,
   "metadata": {},
   "outputs": [],
   "source": [
    "val hello2= new Hello2"
   ]
  },
  {
   "cell_type": "code",
   "execution_count": null,
   "metadata": {},
   "outputs": [],
   "source": [
    "hello2.message"
   ]
  },
  {
   "cell_type": "markdown",
   "metadata": {},
   "source": [
    " We can change the field value:"
   ]
  },
  {
   "cell_type": "code",
   "execution_count": null,
   "metadata": {},
   "outputs": [],
   "source": [
    "hello2.message=\"good bye\""
   ]
  },
  {
   "cell_type": "markdown",
   "metadata": {},
   "source": [
    " Now the field value has changed for the instance of the class:    "
   ]
  },
  {
   "cell_type": "code",
   "execution_count": null,
   "metadata": {},
   "outputs": [],
   "source": [
    "hello2.message"
   ]
  },
  {
   "cell_type": "markdown",
   "metadata": {},
   "source": [
    "If we tried something similar for  the class Hello1 we would get an error because the field is a value and we cannot change a \"val\". Lets create an instance of class  hello1,and assign it to the variable H1:  "
   ]
  },
  {
   "cell_type": "code",
   "execution_count": null,
   "metadata": {},
   "outputs": [],
   "source": [
    "val H1=new Hello1()\n",
    "H1.message"
   ]
  },
  {
   "cell_type": "markdown",
   "metadata": {},
   "source": [
    " If we try and change the field we get an error "
   ]
  },
  {
   "cell_type": "code",
   "execution_count": null,
   "metadata": {},
   "outputs": [],
   "source": [
    "hello1.message=\"good bye\""
   ]
  },
  {
   "cell_type": "markdown",
   "metadata": {},
   "source": [
    "### Promoting class Parameters to become Fields "
   ]
  },
  {
   "cell_type": "markdown",
   "metadata": {},
   "source": [
    " you can convert a parameter a field by adding the key word   “val” to the parameter in the class constructor (in this case, we are adding the \"val\"  inside the round parenthesis, not the curly parenthesis)    "
   ]
  },
  {
   "cell_type": "code",
   "execution_count": null,
   "metadata": {},
   "outputs": [],
   "source": [
    " class Hello(val message: String)"
   ]
  },
  {
   "cell_type": "markdown",
   "metadata": {},
   "source": [
    " Let’s create a new instance of the class  with the parameter:"
   ]
  },
  {
   "cell_type": "code",
   "execution_count": null,
   "metadata": {},
   "outputs": [],
   "source": [
    "val hello=new Hello(\"Hello, world!\")"
   ]
  },
  {
   "cell_type": "markdown",
   "metadata": {},
   "source": [
    " Because we have “val” key word we have access to the parameter :"
   ]
  },
  {
   "cell_type": "code",
   "execution_count": null,
   "metadata": {},
   "outputs": [],
   "source": [
    "hello.message"
   ]
  },
  {
   "cell_type": "markdown",
   "metadata": {},
   "source": [
    " <div class=\"alert alert-danger alertdanger\" style=\"margin-top: 20px\">\n",
    "<h1> Question  2.1: </h1>\n",
    "<p> \n",
    "The class person uses the persons birthday as a parameter, in the class body the variable year is the present year of 2017 and the age is the persons age , create an instants of class person and call  it bob. Set the parameter to 1990. and show the field of age.</b>\n",
    "</p>\n",
    "</div>"
   ]
  },
  {
   "cell_type": "code",
   "execution_count": null,
   "metadata": {},
   "outputs": [],
   "source": [
    "class person( BirthYear:Int){\n",
    "\n",
    "    var year=2017\n",
    "    var age=year-BirthYear\n",
    "}"
   ]
  },
  {
   "cell_type": "code",
   "execution_count": null,
   "metadata": {},
   "outputs": [],
   "source": []
  },
  {
   "cell_type": "markdown",
   "metadata": {},
   "source": [
    " <div align=\"right\">\n",
    "<a href=\"#q2a\" class=\"btn btn-default\" data-toggle=\"collapse\">Click here for the solution</a>\n",
    "\n",
    "</div>\n",
    "<div id=\"q2a\" class=\"collapse\">\n",
    "```\n",
    "var Bob=new person(1990)\n",
    "Bob.age\n",
    "or \n",
    "\n",
    "val Bob=new person(1990)\n",
    "Bob.age\n",
    "\n",
    "\n",
    "```\n",
    "</div>"
   ]
  },
  {
   "cell_type": "markdown",
   "metadata": {},
   "source": [
    " <div class=\"alert alert-danger alertdanger\" style=\"margin-top: 20px\">\n",
    "<h1> Question  2.2: </h1>\n",
    "<p> \n",
    "Can you change the field year and what happens to age?  \n",
    "</p>\n",
    "</div>"
   ]
  },
  {
   "cell_type": "code",
   "execution_count": null,
   "metadata": {},
   "outputs": [],
   "source": []
  },
  {
   "cell_type": "markdown",
   "metadata": {},
   "source": [
    "<div align=\"right\">\n",
    "<a href=\"#q2b\" class=\"btn btn-default\" data-toggle=\"collapse\">Click here for the solution</a>\n",
    "\n",
    "</div>\n",
    "<div id=\"q2b\" class=\"collapse\">\n",
    "```\n",
    "Yes the field is a variable, nothing happens to age as the fields change only when the object is created:\n",
    "Bob.year=20000\n",
    "Bob.age\n",
    "```\n",
    "</div>"
   ]
  },
  {
   "cell_type": "markdown",
   "metadata": {},
   "source": [
    "<a id=\"ref3\"> </a> \n",
    "## 2.3 METHODS"
   ]
  },
  {
   "cell_type": "markdown",
   "metadata": {},
   "source": [
    "### By the end of this section you should be able to:\n",
    "\n",
    "<ul>\n",
    "  <li>Implement methods </li>\n",
    "  <li>Described evaluation order of methods vs fields  </li>\n",
    "  <li>Outline how index notation works </li>\n",
    "</ul>  "
   ]
  },
  {
   "cell_type": "markdown",
   "metadata": {},
   "source": [
    " Methods do work on the instance of the class, they may or may not take parameters, and they may return values. We create a method using the \"def\" key word."
   ]
  },
  {
   "cell_type": "markdown",
   "metadata": {},
   "source": [
    " For example, we can create a method that returns the string \"Hello\":"
   ]
  },
  {
   "cell_type": "code",
   "execution_count": null,
   "metadata": {},
   "outputs": [],
   "source": [
    "def hello=\"Hello\"\n",
    "hello"
   ]
  },
  {
   "cell_type": "markdown",
   "metadata": {},
   "source": [
    "Next, we define the method echo, the method inputs a string and returns the output. In this case, we define the input and output type explicitly.  "
   ]
  },
  {
   "cell_type": "code",
   "execution_count": null,
   "metadata": {},
   "outputs": [],
   "source": [
    "def echo(message: String):String=message"
   ]
  },
  {
   "cell_type": "markdown",
   "metadata": {},
   "source": [
    " We can call the method by providing it an argument:"
   ]
  },
  {
   "cell_type": "code",
   "execution_count": null,
   "metadata": {},
   "outputs": [],
   "source": [
    "echo(\"Hey\")"
   ]
  },
  {
   "cell_type": "markdown",
   "metadata": {},
   "source": [
    " The method changes if we  provide it a new argument:"
   ]
  },
  {
   "cell_type": "code",
   "execution_count": null,
   "metadata": {},
   "outputs": [],
   "source": [
    "echo(\"Hello\")"
   ]
  },
  {
   "cell_type": "markdown",
   "metadata": {},
   "source": [
    "You can change the value of a method after the object has been created.We can create the class \"hey\" with the method \"SaySomthing\": "
   ]
  },
  {
   "cell_type": "code",
   "execution_count": null,
   "metadata": {},
   "outputs": [],
   "source": [
    "class hey{def SaySomthing(Somthing:String):String=Somthing}"
   ]
  },
  {
   "cell_type": "markdown",
   "metadata": {},
   "source": [
    "We can create a new object and call a method with an argument of 'Hello':"
   ]
  },
  {
   "cell_type": "code",
   "execution_count": null,
   "metadata": {},
   "outputs": [],
   "source": [
    "var Hi=new hey()\n",
    "Hi.SaySomthing(\"Hello\")"
   ]
  },
  {
   "cell_type": "markdown",
   "metadata": {},
   "source": [
    "\n",
    "If we call the method with different parameters we get a different result."
   ]
  },
  {
   "cell_type": "code",
   "execution_count": null,
   "metadata": {},
   "outputs": [],
   "source": [
    "Hi.SaySomthing(\"Se Ya\")"
   ]
  },
  {
   "cell_type": "markdown",
   "metadata": {
    "collapsed": true
   },
   "source": [
    " You can change the value of a method after the object has been created"
   ]
  },
  {
   "cell_type": "markdown",
   "metadata": {},
   "source": [
    " <div class=\"alert alert-danger alertdanger\" style=\"margin-top: 20px\">\n",
    "<h1> Question  2.3: </h1>\n",
    "<p> \n",
    "We have modified the class person and replaced the field age with a method , create an instant of class person and call it bob. Set the parameter to 1990. Call the method of age.\n",
    "\n",
    "</p> \n",
    "</div>"
   ]
  },
  {
   "cell_type": "code",
   "execution_count": null,
   "metadata": {},
   "outputs": [],
   "source": [
    "class person( BirthYear:Int){\n",
    "\n",
    "    var year=2017\n",
    "    def age=year-BirthYear\n",
    "}"
   ]
  },
  {
   "cell_type": "code",
   "execution_count": null,
   "metadata": {},
   "outputs": [],
   "source": []
  },
  {
   "cell_type": "markdown",
   "metadata": {},
   "source": [
    " <div align=\"right\">\n",
    "<a href=\"#q3a\" class=\"btn btn-default\" data-toggle=\"collapse\">Click here for the solution</a>\n",
    "\n",
    "</div>\n",
    "<div id=\"q3a\" class=\"collapse\">\n",
    "```\n",
    "var Bob=new person(1990)\n",
    "Bob.age\n",
    "```\n",
    "</div>"
   ]
  },
  {
   "cell_type": "markdown",
   "metadata": {},
   "source": [
    " <div class=\"alert alert-danger alertdanger\" style=\"margin-top: 20px\">\n",
    "<h1> Question  2.4: </h1>\n",
    "<p> \n",
    "If we change the field year what will happen to the method age?\n",
    "</p> \n",
    "</div>"
   ]
  },
  {
   "cell_type": "code",
   "execution_count": null,
   "metadata": {},
   "outputs": [],
   "source": [
    "\n"
   ]
  },
  {
   "cell_type": "markdown",
   "metadata": {},
   "source": [
    " <div align=\"right\">\n",
    "<a href=\"#q3b\" class=\"btn btn-default\" data-toggle=\"collapse\">Click here for the solution</a>\n",
    "\n",
    "</div>\n",
    "<div id=\"q3b\" class=\"collapse\">\n",
    "```\n",
    "If we change the field year and call the method age the output will change. Unlike the previous version of \"person\" age is a now a method.  Methods change when ever they are called; fields are only called when the object is created. For example:\n",
    "\n",
    "Bob.year=1991\n",
    "Bob.age\n",
    "```\n",
    "</div>"
   ]
  },
  {
   "cell_type": "markdown",
   "metadata": {},
   "source": [
    "## Infix Notaion"
   ]
  },
  {
   "cell_type": "markdown",
   "metadata": {},
   "source": [
    "If the method only takes one argument we can use Infix notation we can call a method with no dot or parentheses. For example we can split a string using the split method."
   ]
  },
  {
   "cell_type": "code",
   "execution_count": null,
   "metadata": {},
   "outputs": [],
   "source": [
    "\"Infix Notaion\".split(\" \")"
   ]
  },
  {
   "cell_type": "markdown",
   "metadata": {},
   "source": [
    "Equivalently using Infix notation "
   ]
  },
  {
   "cell_type": "code",
   "execution_count": null,
   "metadata": {},
   "outputs": [],
   "source": [
    "\"Infix Notaion\" split \" \""
   ]
  },
  {
   "cell_type": "markdown",
   "metadata": {},
   "source": [
    " <a id=\"ref4\"> </a> \n",
    "## 2.4 Default and Named Arguments"
   ]
  },
  {
   "cell_type": "markdown",
   "metadata": {},
   "source": [
    "### By the end of this section you should be able to:\n",
    "\n",
    "<ul>\n",
    "  <li>Utilize default argument values in Scala class constructors  </li>\n",
    "  <li>Leverage named arguments to only pass certain values </li>\n",
    "</ul> \n",
    "\n"
   ]
  },
  {
   "cell_type": "markdown",
   "metadata": {
    "collapsed": true
   },
   "source": [
    "We can create classes with default parameters, for example, we can create a method name, which has two input parameters. The first and last, the method concatenates the value of the strings. We can set default values for the parameters to be empty strings ."
   ]
  },
  {
   "cell_type": "code",
   "execution_count": null,
   "metadata": {},
   "outputs": [],
   "source": [
    "def Name(first:String=\"\",last:String=\"\"):String=first+\" \"+last"
   ]
  },
  {
   "cell_type": "markdown",
   "metadata": {},
   "source": [
    " We can call the method as follows:"
   ]
  },
  {
   "cell_type": "code",
   "execution_count": null,
   "metadata": {},
   "outputs": [],
   "source": [
    "Name(\"Rob\",\"Roy\")"
   ]
  },
  {
   "cell_type": "markdown",
   "metadata": {},
   "source": [
    "If we don't include all the parameters  we don't get an error "
   ]
  },
  {
   "cell_type": "code",
   "execution_count": null,
   "metadata": {},
   "outputs": [],
   "source": [
    "Name(\"Johon\")"
   ]
  },
  {
   "cell_type": "markdown",
   "metadata": {},
   "source": [
    " The parameters are called in the same order as they are called in the class constructor. You can be explicitly and reference the name of the parameter in the method call. "
   ]
  },
  {
   "cell_type": "code",
   "execution_count": null,
   "metadata": {},
   "outputs": [],
   "source": [
    "Name(last=\"Barker\",first=\"Bob\")"
   ]
  },
  {
   "cell_type": "markdown",
   "metadata": {},
   "source": [
    "Similarly, we can only pass one argument using the name of the parameter. "
   ]
  },
  {
   "cell_type": "code",
   "execution_count": null,
   "metadata": {},
   "outputs": [],
   "source": [
    "Name(last=\"Kubrick\")"
   ]
  },
  {
   "cell_type": "markdown",
   "metadata": {},
   "source": [
    " <div class=\"alert alert-danger alertdanger\" style=\"margin-top: 20px\">\n",
    "<h1> Question  2.5: </h1>\n",
    "<p> \n",
    "Create an object of class name, with the first name \"Joei\" and Last name \"JoeJoe\" \n",
    "</p> \n",
    "</div>"
   ]
  },
  {
   "cell_type": "code",
   "execution_count": null,
   "metadata": {},
   "outputs": [],
   "source": []
  },
  {
   "cell_type": "markdown",
   "metadata": {},
   "source": [
    " <div align=\"right\">\n",
    "<a href=\"#q34\" class=\"btn btn-default\" data-toggle=\"collapse\">Click here for the solution</a>\n",
    "\n",
    "</div>\n",
    "<div id=\"q34\" class=\"collapse\">\n",
    "```\n",
    "Name(\"Joe\",\"JoeJoe\")\n",
    "\n",
    "Bob.year=1991\n",
    "Bob.age\n",
    "```"
   ]
  },
  {
   "cell_type": "markdown",
   "metadata": {},
   "source": [
    "<a id=\"ref5\"> </a> \n",
    "\n",
    "# 2.5 OBJECTS "
   ]
  },
  {
   "cell_type": "markdown",
   "metadata": {
    "collapsed": true
   },
   "source": [
    "### Singlton object "
   ]
  },
  {
   "cell_type": "markdown",
   "metadata": {},
   "source": [
    "### By the end of this section you should be able to:##\n",
    "\n",
    "<ul>\n",
    "  <li> Understand singleton objects in Scala </li>\n",
    "  <li>Describe the difference between a class and an object </li>\n",
    "</ul> \n"
   ]
  },
  {
   "cell_type": "markdown",
   "metadata": {},
   "source": [
    "In Scala we can create an object directly using the \"object\" key word.  For example, we can create the object Hello as follows:"
   ]
  },
  {
   "cell_type": "code",
   "execution_count": null,
   "metadata": {},
   "outputs": [],
   "source": [
    "object Hello{def message =\"Hello!\"}"
   ]
  },
  {
   "cell_type": "markdown",
   "metadata": {},
   "source": [
    "Unlike a class we do not need to create the object, we can call it directly:"
   ]
  },
  {
   "cell_type": "code",
   "execution_count": null,
   "metadata": {},
   "outputs": [],
   "source": [
    "Hello.message "
   ]
  },
  {
   "cell_type": "markdown",
   "metadata": {},
   "source": [
    "We can create a class Time,that converts minutes to hours :"
   ]
  },
  {
   "cell_type": "code",
   "execution_count": null,
   "metadata": {},
   "outputs": [],
   "source": [
    "\n",
    "class Time(FullHours :Int, PartialHours:Int){println(FullHours+\".\"+PartialHours+\" Hours\")}"
   ]
  },
  {
   "cell_type": "markdown",
   "metadata": {},
   "source": [
    " We can then create an object Hello  that creates instances of the class \"Time\" using the method \"GetHours\" "
   ]
  },
  {
   "cell_type": "code",
   "execution_count": null,
   "metadata": {},
   "outputs": [],
   "source": [
    "object Hello{\n",
    "    val OneHourInMinutes:Int=60\n",
    "    \n",
    "    def GetHours(minutes:Int)=new Time(minutes/OneHourInMinutes, minutes%OneHourInMinutes )\n",
    "    \n",
    "}"
   ]
  },
  {
   "cell_type": "markdown",
   "metadata": {},
   "source": [
    " You can apply the method \"GetHours\" from the object to perform the conversion  "
   ]
  },
  {
   "cell_type": "code",
   "execution_count": null,
   "metadata": {},
   "outputs": [],
   "source": [
    "Hello.GetHours(64)"
   ]
  },
  {
   "cell_type": "code",
   "execution_count": null,
   "metadata": {},
   "outputs": [],
   "source": [
    "Hello.GetHours(50)"
   ]
  },
  {
   "cell_type": "markdown",
   "metadata": {},
   "source": [
    " <div class=\"alert alert-danger alertdanger\" style=\"margin-top: 20px\">\n",
    "<h1> Question  2.6: </h1>\n",
    "<p> \n",
    "Create the object \"Hello1\", the object is identical to \"Hello\" but call the rename the method  \"GetHours\" to the method \"apply\"   \n",
    "</p> \n",
    "</div>"
   ]
  },
  {
   "cell_type": "code",
   "execution_count": null,
   "metadata": {},
   "outputs": [],
   "source": []
  },
  {
   "cell_type": "markdown",
   "metadata": {},
   "source": [
    "<div align=\"right\">\n",
    "<a href=\"#q26\" class=\"btn btn-default\" data-toggle=\"collapse\">Click here for the solution</a>\n",
    "\n",
    "</div>\n",
    "<div id=\"q26\" class=\"collapse\">\n",
    "```\n",
    "object Hello1{\n",
    "    val OneHourInMinutes:Int=60\n",
    "    \n",
    "    def apply(minutes:Int)=new Time(minutes/OneHourInMinutes, minutes%OneHourInMinutes )\n",
    "    \n",
    "}\n",
    "\n",
    "\n",
    "```"
   ]
  },
  {
   "cell_type": "markdown",
   "metadata": {},
   "source": [
    " <div class=\"alert alert-danger alertdanger\" style=\"margin-top: 20px\">\n",
    "<h1> Question  2.7: </h1>\n",
    "<p> \n",
    "Convert 64 minutes to hours using object \"Hello1\" and the method apply.\n",
    "</p> \n",
    "</div>"
   ]
  },
  {
   "cell_type": "code",
   "execution_count": null,
   "metadata": {},
   "outputs": [],
   "source": []
  },
  {
   "cell_type": "markdown",
   "metadata": {
    "collapsed": true
   },
   "source": [
    " <div align=\"right\">\n",
    "<a href=\"#q27\" class=\"btn btn-default\" data-toggle=\"collapse\">Click here for the solution</a>\n",
    "\n",
    "</div>\n",
    "<div id=\"q27\" class=\"collapse\">\n",
    "\n",
    "Hello1.apply(64)\n",
    "    \n",
    "\n"
   ]
  },
  {
   "cell_type": "markdown",
   "metadata": {},
   "source": [
    "<div class=\"alert alert-danger alertdanger\" style=\"margin-top: 20px\">\n",
    "<h1> Question  2.8: </h1>\n",
    "<p> \n",
    "What happens  if  you call the object Hello1(64)\n",
    "</p> \n",
    "</div>"
   ]
  },
  {
   "cell_type": "code",
   "execution_count": null,
   "metadata": {},
   "outputs": [],
   "source": []
  },
  {
   "cell_type": "markdown",
   "metadata": {},
   "source": [
    " <div align=\"right\">\n",
    "<a href=\"#q28\" class=\"btn btn-default\" data-toggle=\"collapse\">Click here for the solution</a>\n",
    "\n",
    "</div>\n",
    "<div id=\"q28\" class=\"collapse\">\n",
    "\n",
    "It turns out that apply is a special method, such that hello1.apply(64) equals hello1(64) \n",
    "\n",
    "\n",
    "\n"
   ]
  },
  {
   "cell_type": "markdown",
   "metadata": {
    "collapsed": true
   },
   "source": [
    " <hr>\n",
    "Copyright &copy; 2017 [cognitiveclass.ai](cognitiveclass.ai?utm_source=bducopyrightlink&utm_medium=dswb&utm_campaign=bdu). This notebook and its source code are released under the terms of the [MIT License](https://bigdatauniversity.com/mit-license/)."
   ]
  },
  {
   "cell_type": "markdown",
   "metadata": {},
   "source": [
    "## About the Authors:  \n",
    "\n",
    "\n",
    " [Joseph Santarcangelo]( https://www.linkedin.com/in/joseph-s-50398b136/) has a PhD in Electrical Engineering, his research focused on using machine learning, signal processing, and computer vision to determine how videos impact human cognition. Joseph has been working for IBM since he completed his PhD.\n",
    "\n"
   ]
  },
  {
   "cell_type": "code",
   "execution_count": null,
   "metadata": {},
   "outputs": [],
   "source": []
  }
 ],
 "metadata": {
  "kernelspec": {
   "display_name": "Scala 2.11 with Spark 2.0",
   "language": "scala",
   "name": "scala-spark20"
  },
  "language_info": {
   "codemirror_mode": "text/x-scala",
   "file_extension": ".scala",
   "mimetype": "text/x-scala",
   "name": "scala",
   "pygments_lexer": "scala",
   "version": "2.11.8"
  }
 },
 "nbformat": 4,
 "nbformat_minor": 1
}
