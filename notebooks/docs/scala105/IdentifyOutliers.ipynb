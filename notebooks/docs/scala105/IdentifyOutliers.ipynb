{
 "cells": [
  {
   "cell_type": "markdown",
   "metadata": {},
   "source": [
    "<a href=\"https://cocl.us/Data_Science_with_Scalla_top\"><img src = \"https://s3-api.us-geo.objectstorage.softlayer.net/cf-courses-data/CognitiveClass/SC0103EN/adds/Data_Science_with_Scalla_notebook_top.png\" width = 750, align = \"center\"></a>\n",
    " <br/>\n",
    "<a><img src=\"https://ibm.box.com/shared/static/ugcqz6ohbvff804xp84y4kqnvvk3bq1g.png\" width=\"200\" align=\"center\"></a>\"\n",
    "\n",
    "# Module 2: Preparing Data \n",
    "\n",
    "## Identifying Outliers\n",
    "\n",
    "### Lesson Objectives\n",
    "\n",
    "After completing this lesson, you should be able to:\n",
    "\n",
    "- Compute the inverse of covariance matrix given of a dataset\n",
    "-\tCompute Mahalanobis Distance for all elements in a dataset\n",
    "-\tRemove outliers from a dataset\n",
    "\n",
    "\n",
    "## Mahalanobis Distance \n",
    "\n",
    "-\tMulti-dimensional generalization of measuring how many standard deviations a point is away from the mean\n",
    "-\tMeasured along each Principal Component axis \n",
    "-\tUnitless and scale-invariant \n",
    "-\tTakes into account the correlations of the dataset\n",
    "-\tUsed to detect outliers"
   ]
  },
  {
   "cell_type": "code",
   "execution_count": null,
   "metadata": {
    "attributes": {
     "classes": [
      "scala"
     ],
     "id": ""
    }
   },
   "outputs": [],
   "source": [
    "import org.apache.spark.sql.SparkSession\n",
    "val spark = SparkSession.builder().getOrCreate()\n",
    "import spark.implicits._\n",
    "\n",
    "import org.apache.spark.sql.functions._\n",
    "import  org.apache.spark.mllib.linalg.{Vector, Vectors}\n",
    "import  org.apache.spark.ml.feature.StandardScaler\n",
    "import  org.apache.spark.ml.feature.VectorAssembler \n",
    "import org.apache.spark.mllib.util.MLUtils\n"
   ]
  },
  {
   "cell_type": "code",
   "execution_count": null,
   "metadata": {
    "attributes": {
     "classes": [
      "scala"
     ],
     "id": ""
    }
   },
   "outputs": [],
   "source": [
    "// Continuing from Previous Example \n",
    "\n",
    "val  dfRandom = spark.range(0, 10).select(\"id\").\n",
    " withColumn(\"uniform\", rand(10L)).\n",
    " withColumn(\"normal1\", randn(10L)).\n",
    " withColumn(\"normal2\", randn(11L))\n",
    "\n",
    "val  assembler = new VectorAssembler().\n",
    " setInputCols(Array(\"uniform\",\"normal1\",\"normal2\")).\n",
    " setOutputCol(\"features\")\n",
    "\n",
    "val dfVec = MLUtils.convertVectorColumnsFromML(assembler.transform(dfRandom))"
   ]
  },
  {
   "cell_type": "code",
   "execution_count": null,
   "metadata": {
    "attributes": {
     "classes": [
      "scala"
     ],
     "id": ""
    }
   },
   "outputs": [],
   "source": [
    "// Continuing from the Previous Example\n",
    "dfVec.select(\"id\",\"features\").show()\n",
    "\n",
    "// An Example with Outliers \n",
    "val dfOutlier = dfVec.select(\"id\",\"features\").unionAll(spark.createDataFrame(Seq((10,Vectors.dense(3, 3, 3)))))\n",
    "dfOutlier.sort(dfOutlier(\"id\").desc).show(5)"
   ]
  },
  {
   "cell_type": "code",
   "execution_count": null,
   "metadata": {
    "attributes": {
     "classes": [
      "scala"
     ],
     "id": ""
    }
   },
   "outputs": [],
   "source": [
    "// An Example with Outliers \n",
    "\n",
    "val scaler = new StandardScaler().\n",
    " setInputCol(\"features\").setOutputCol(\"scaledFeat\").\n",
    " setWithStd(true).setWithMean(true)\n",
    "\n",
    "val scalerModel = scaler.fit(MLUtils.convertVectorColumnsToML(dfOutlier.select(\"id\",\"features\")))\n",
    "\n",
    "val dfScaled = scalerModel.transform(MLUtils.convertVectorColumnsToML(dfOutlier)).select(\"id\",\"scaledFeat\")\n",
    "dfScaled.sort(dfScaled(\"id\").desc).show(3)"
   ]
  },
  {
   "cell_type": "code",
   "execution_count": null,
   "metadata": {
    "attributes": {
     "classes": [
      "scala"
     ],
     "id": ""
    }
   },
   "outputs": [],
   "source": [
    "import  org.apache.spark.mllib.stat.Statistics\n",
    "\n",
    "import  breeze.linalg._\n",
    "\n",
    "val  rddVec = MLUtils.convertVectorColumnsFromML(dfScaled.select(\"scaledFeat\")).rdd.map(_(0).asInstanceOf[org.apache.spark.mllib.linalg.Vector])\n",
    "\n",
    "val  colCov = Statistics.corr(rddVec)\n",
    "val  invColCovB = inv(new DenseMatrix(3, 3, colCov.toArray))"
   ]
  },
  {
   "cell_type": "code",
   "execution_count": null,
   "metadata": {
    "attributes": {
     "classes": [
      "scala"
     ],
     "id": ""
    }
   },
   "outputs": [],
   "source": [
    "// Computing Mahalanobis Distance \n",
    "\n",
    "val mahalanobis = udf[Double, org.apache.spark.ml.linalg.Vector]{ v =>\n",
    " val k = v.toArray\n",
    " val vB = new DenseVector(k);\n",
    " vB.t * invColCovB * vB\n",
    "}\n",
    "\n",
    "val dfMahalanobis = dfScaled.withColumn(\"mahalanobis\", mahalanobis(dfScaled(\"scaledFeat\")))"
   ]
  },
  {
   "cell_type": "code",
   "execution_count": null,
   "metadata": {
    "attributes": {
     "classes": [
      "scala"
     ],
     "id": ""
    }
   },
   "outputs": [],
   "source": [
    "// Computing Mahalanobis Distance \n",
    "dfMahalanobis.show()"
   ]
  },
  {
   "cell_type": "code",
   "execution_count": null,
   "metadata": {
    "attributes": {
     "classes": [
      "scala"
     ],
     "id": ""
    }
   },
   "outputs": [],
   "source": [
    "// Removing Outliers \n",
    "\n",
    "dfMahalanobis.sort(dfMahalanobis(\"mahalanobis\").desc).show(2)\n",
    "\n",
    "val ids = dfMahalanobis.select(\"id\",\"mahalanobis\").sort(dfMahalanobis(\"mahalanobis\").desc).drop(\"mahalanobis\").collect() \n",
    "\n",
    "val idOutliers = ids.map(_(0).asInstanceOf[Long]).slice(0,2)"
   ]
  },
  {
   "cell_type": "markdown",
   "metadata": {},
   "source": [
    "## Removing Outliers"
   ]
  },
  {
   "cell_type": "code",
   "execution_count": null,
   "metadata": {
    "attributes": {
     "classes": [
      "scala"
     ],
     "id": ""
    }
   },
   "outputs": [],
   "source": [
    "dfOutlier.filter(\"id not in (10, 2)\").show()"
   ]
  },
  {
   "cell_type": "markdown",
   "metadata": {},
   "source": [
    "## Lesson Summary\n",
    "\n",
    "- Having completed this lesson, you should be able to:\n",
    "-\tCompute the inverse of covariance matrix given of a dataset \n",
    "-\tCompute Mahalanobis Distance for all elements in a dataset\n",
    "-\tRemove outliers from a dataset\n",
    "\n",
    "### About the Authors\n",
    "\n",
    "[Petro Verkhogliad](https://www.linkedin.com/in/vpetro) is Consulting Manager at Lightbend. He holds a Masters degree in Computer Science with specialization in Intelligent Systems. He is passionate about functional programming and applications of AI."
   ]
  }
 ],
 "metadata": {
  "kernelspec": {
   "display_name": "Apache Toree - Scala",
   "language": "scala",
   "name": "apache_toree_scala"
  },
  "language_info": {
   "codemirror_mode": "text/x-scala",
   "file_extension": ".scala",
   "mimetype": "text/x-scala",
   "name": "scala",
   "pygments_lexer": "scala",
   "version": "2.11.12"
  }
 },
 "nbformat": 4,
 "nbformat_minor": 2
}
