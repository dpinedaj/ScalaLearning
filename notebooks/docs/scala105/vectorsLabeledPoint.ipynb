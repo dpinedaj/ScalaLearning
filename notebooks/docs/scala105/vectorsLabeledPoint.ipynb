{
 "cells": [
  {
   "cell_type": "markdown",
   "metadata": {},
   "source": [
    "<a href=\"https://cocl.us/Data_Science_with_Scalla_top\"><img src = \"https://s3-api.us-geo.objectstorage.softlayer.net/cf-courses-data/CognitiveClass/SC0103EN/adds/Data_Science_with_Scalla_notebook_top.png\" width = 750, align = \"center\"></a>\n",
    " <br/>\n",
    "<a><img src=\"https://ibm.box.com/shared/static/ugcqz6ohbvff804xp84y4kqnvvk3bq1g.png\" width=\"200\" align=\"center\"></a>\"\n",
    "\n",
    "##  Module 1: Vectors and Labelled Points\n",
    "\n",
    "##  VECTORS AND LABELLED POINTS \n",
    "\n",
    "## Lesson Objectives \n",
    "After completing this lesson, you should be able to: \n",
    "\n",
    "- Understand local vectors and labeled points\n",
    "- Create dense and sparse vectors \n",
    "- Create labeled points\n",
    "\n",
    "### MLlib's Local Vectors \n",
    " \n",
    "Scala imports scala.collections.immutable.Vector by default.\n",
    "\n",
    "You have to import `org.apache.spark.mllib.linalg.{Vector, Vectors}` to use MLlib Vectors. \n",
    "Indices are 0-based integers on a single machine \n",
    "MLlib's vectors can either be dense or sparse.\n",
    "\n",
    "### Dense Vector \n",
    "\n",
    "A dense vector is backed by a double array containing its values\n",
    "It is the \"obvious\" implementation of a Vector \n",
    "Easily created from an array of doubles.\n",
    "\n",
    "\n",
    "### Dense Vector Example"
   ]
  },
  {
   "cell_type": "code",
   "execution_count": null,
   "metadata": {
    "attributes": {
     "classes": [
      "scala"
     ],
     "id": ""
    }
   },
   "outputs": [],
   "source": [
    "import  org.apache.spark.mllib.linalg.{Vector ,  Vectors}"
   ]
  },
  {
   "cell_type": "code",
   "execution_count": null,
   "metadata": {
    "attributes": {
     "classes": [
      "scala"
     ],
     "id": ""
    }
   },
   "outputs": [],
   "source": [
    "print(Vectors.dense(44.0,  0.0,  55.0))"
   ]
  },
  {
   "cell_type": "markdown",
   "metadata": {},
   "source": [
    "### Sparse Vector\n",
    "A sparse vector is backed by two arrays: \n",
    "an integer array representing the indexes \n",
    "a double array containing the corresponding values.\n",
    "\n",
    "It is a binary-search implementation of a Vector.\n",
    "Can be created by specifying the indices and values for non-zero entries. Either two separate arrays or\n",
    "a sequence of tuples. \n",
    "\n",
    "\n",
    "### Sparse Vector Examples"
   ]
  },
  {
   "cell_type": "code",
   "execution_count": null,
   "metadata": {
    "attributes": {
     "classes": [
      "scala"
     ],
     "id": ""
    }
   },
   "outputs": [],
   "source": [
    "Vectors.sparse(3,  Array(0,  2),  Array(44.0, 55.0))\n",
    "\n"
   ]
  },
  {
   "cell_type": "code",
   "execution_count": null,
   "metadata": {
    "attributes": {
     "classes": [
      "scala"
     ],
     "id": ""
    }
   },
   "outputs": [],
   "source": [
    "Vectors.sparse(3,  Seq((0,  44.0),  (2,  55.0)))"
   ]
  },
  {
   "cell_type": "markdown",
   "metadata": {},
   "source": [
    "### Labeled Points I\n",
    "The association of a vector, either dense or sparse, with a corresponding label/response.\n",
    "\n",
    "Used in supervised machine learning algorithms.\n",
    "\n",
    "\n",
    "### Supervised Learning Algorithms \n",
    "Supervised learning: a machine is told the \"correct\" answers so it can look for similar patterns \n",
    "Unsupervised learning: where the machine has to make intelligent guesses\n",
    "\n",
    "### Labeled Points II \n",
    "Labels are needed for supervised machine learning \n",
    "Labels are stored as doubles so they can be used in both regression and classification problems\n",
    "\n",
    "\n",
    "### Labeled Points III\n",
    "In classification problems, labels must be: \n",
    "0 (negative) or 1 (positive) for binary classification \n",
    "class indices starting from zero (0, 1, 2...) for multiclass \n",
    "\n",
    "\n",
    "### Labeled Point Examples"
   ]
  },
  {
   "cell_type": "code",
   "execution_count": null,
   "metadata": {
    "attributes": {
     "classes": [
      "scala"
     ],
     "id": ""
    }
   },
   "outputs": [],
   "source": [
    "import  org.apache.spark.mllib.regression.LabeledPoint\n",
    "\n",
    "LabeledPoint(1.0,  Vectors.dense(44.0, 0.0, 55.0))\n",
    "\n",
    "LabeledPoint(0.0,  Vectors.sparse(3, Array(0, 2) , Array(44.0, 55.0)))"
   ]
  },
  {
   "cell_type": "markdown",
   "metadata": {},
   "source": [
    "### About the Authors\n",
    "\n",
    "[Petro Verkhogliad](https://www.linkedin.com/in/vpetro) is Consulting Manager at Lightbend. He holds a Masters degree in Computer Science with specialization in Intelligent Systems. He is passionate about functional programming and applications of AI."
   ]
  }
 ],
 "metadata": {
  "kernelspec": {
   "display_name": "Apache Toree - Scala",
   "language": "scala",
   "name": "apache_toree_scala"
  },
  "language_info": {
   "codemirror_mode": "text/x-scala",
   "file_extension": ".scala",
   "mimetype": "text/x-scala",
   "name": "scala",
   "pygments_lexer": "scala",
   "version": "2.11.12"
  }
 },
 "nbformat": 4,
 "nbformat_minor": 2
}
