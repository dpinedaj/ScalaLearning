{
 "cells": [
  {
   "cell_type": "markdown",
   "metadata": {},
   "source": [
    "<a href=\"https://cocl.us/Data_Science_with_Scalla_top\"><img src = \"https://s3-api.us-geo.objectstorage.softlayer.net/cf-courses-data/CognitiveClass/SC0103EN/adds/Data_Science_with_Scalla_notebook_top.png\" width = 750, align = \"center\"></a>\n",
    " <br/>\n",
    "<a><img src=\"https://ibm.box.com/shared/static/ugcqz6ohbvff804xp84y4kqnvvk3bq1g.png\" width=\"200\" align=\"center\"></a>\"\n",
    "\n",
    "# Module 3: Feature Engineering\n",
    "\n",
    "## Using Explode, User Defined Functions, and Pivot\n",
    "\n",
    "\n",
    "### Lesson Objectives: \n",
    "\n",
    "- After completing this lesson, you should be able to use these methods on DataFrames:\n",
    "-\t`explode()`\n",
    "-\tUser Defined Functions \n",
    "-\t`pivot()`\n",
    "\n",
    "\n",
    "\n",
    "### How Can We Turn Sales Data Into A Report"
   ]
  },
  {
   "cell_type": "code",
   "execution_count": null,
   "metadata": {
    "attributes": {
     "classes": [
      "scala"
     ],
     "id": ""
    }
   },
   "outputs": [],
   "source": [
    "import org.apache.spark.sql.SparkSession\n",
    "val spark = SparkSession.builder().getOrCreate()\n",
    "import spark.implicits._\n",
    "import org.apache.spark.sql.functions._"
   ]
  },
  {
   "cell_type": "code",
   "execution_count": null,
   "metadata": {
    "attributes": {
     "classes": [
      "scala"
     ],
     "id": ""
    }
   },
   "outputs": [],
   "source": [
    "// Setting Up the Example\n",
    "\n",
    "case class Sales( id: Int, account: String, year: String, commission: Int, sales_reps: Seq[String])\n"
   ]
  },
  {
   "cell_type": "code",
   "execution_count": null,
   "metadata": {
    "attributes": {
     "classes": [
      "scala"
     ],
     "id": ""
    }
   },
   "outputs": [],
   "source": [
    "val sales = spark.createDataFrame(Seq(\n",
    "  Sales(1, \"Acme\", \"2013\", 1000, Seq(\"Jim\", \"Tom\")),\n",
    "  Sales(2, \"Lumos\", \"2013\", 1100, Seq(\"Fred\", \"Ann\")),\n",
    "  Sales(3, \"Acme\", \"2014\", 2800, Seq(\"Jim\")),\n",
    "  Sales(4, \"Lumos\", \"2014\", 4200, Seq(\"Fred\", \"Sally\"))\n",
    "))\n",
    "sales.show()"
   ]
  },
  {
   "cell_type": "markdown",
   "metadata": {},
   "source": [
    "## explode()"
   ]
  },
  {
   "cell_type": "code",
   "execution_count": null,
   "metadata": {
    "attributes": {
     "classes": [
      "scala"
     ],
     "id": ""
    }
   },
   "outputs": [],
   "source": [
    "sales.select( $\"id\", $\"account\", $\"year\", $\"commission\", explode($\"sales_reps\") as(\"sales_rep\")).show()"
   ]
  },
  {
   "cell_type": "markdown",
   "metadata": {},
   "source": [
    "## User Defined Functions"
   ]
  },
  {
   "cell_type": "code",
   "execution_count": null,
   "metadata": {
    "attributes": {
     "classes": [
      "scala"
     ],
     "id": ""
    }
   },
   "outputs": [],
   "source": [
    "val len: (Seq[String] => Int) = (arg: Seq[String]) => {arg.length}\n",
    "val column_len = udf(len)\n"
   ]
  },
  {
   "cell_type": "code",
   "execution_count": null,
   "metadata": {
    "attributes": {
     "classes": [
      "scala"
     ],
     "id": ""
    }
   },
   "outputs": [],
   "source": [
    "val exploded = sales.select( $\"id\", $\"account\", $\"year\", $\"commission\", ($\"commission\" / column_len($\"sales_reps\")).as(\"share\"), explode($\"sales_reps\").as(\"sales_rep\"))\n",
    "exploded.show()"
   ]
  },
  {
   "cell_type": "markdown",
   "metadata": {},
   "source": [
    "## pivot()"
   ]
  },
  {
   "cell_type": "code",
   "execution_count": null,
   "metadata": {
    "attributes": {
     "classes": [
      "scala"
     ],
     "id": ""
    }
   },
   "outputs": [],
   "source": [
    "exploded.groupBy($\"sales_rep\").pivot(\"year\").agg(sum(\"share\")).orderBy(\"sales_rep\").collect"
   ]
  },
  {
   "cell_type": "code",
   "execution_count": null,
   "metadata": {
    "attributes": {
     "classes": [
      "scala"
     ],
     "id": ""
    }
   },
   "outputs": [],
   "source": [
    "exploded.groupBy($\"account\", $\"sales_rep\").pivot(\"year\").agg(sum(\"share\")).orderBy(\"account\", \"sales_rep\").collect"
   ]
  },
  {
   "cell_type": "markdown",
   "metadata": {},
   "source": [
    "### Lesson Summary\n",
    "\n",
    "Having completed this lesson, you should understand the role of\n",
    "\n",
    "-\t`explode()`\n",
    "-\tUser Defined Functions \n",
    "-\t`pivot()`\n",
    "\n",
    "\n",
    "### About the Authors\n",
    "\n",
    "[Petro Verkhogliad](https://www.linkedin.com/in/vpetro) is Consulting Manager at Lightbend. He holds a Masters degree in Computer Science with specialization in Intelligent Systems. He is passionate about functional programming and applications of AI."
   ]
  },
  {
   "cell_type": "code",
   "execution_count": null,
   "metadata": {},
   "outputs": [],
   "source": []
  }
 ],
 "metadata": {
  "kernelspec": {
   "display_name": "Apache Toree - Scala",
   "language": "scala",
   "name": "apache_toree_scala"
  },
  "language_info": {
   "codemirror_mode": "text/x-scala",
   "file_extension": ".scala",
   "mimetype": "text/x-scala",
   "name": "scala",
   "pygments_lexer": "scala",
   "version": "2.11.12"
  }
 },
 "nbformat": 4,
 "nbformat_minor": 2
}
