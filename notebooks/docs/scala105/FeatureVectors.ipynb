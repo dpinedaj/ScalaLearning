{
 "cells": [
  {
   "cell_type": "markdown",
   "metadata": {},
   "source": [
    "<a href=\"https://cocl.us/Data_Science_with_Scalla_top\"><img src = \"https://s3-api.us-geo.objectstorage.softlayer.net/cf-courses-data/CognitiveClass/SC0103EN/adds/Data_Science_with_Scalla_notebook_top.png\" width = 750, align = \"center\"></a>\n",
    " <br/>\n",
    "<a><img src=\"https://ibm.box.com/shared/static/ugcqz6ohbvff804xp84y4kqnvvk3bq1g.png\" width=\"200\" align=\"center\"></a>\"\n",
    "\n",
    "# Module 3: Feature Engineering\n",
    "\n",
    "## Feature Vectors \n",
    "\n",
    "Lesson Objectives\n",
    "\n",
    "After completing this lesson, you should be able to: \n",
    "\n",
    "- Understand how feature vectors fit into the APIs for Spark's MLlib and spark.ml libraries\n",
    "-\tAssemble feature vectors \n",
    "-\tExtract specific dimensions from feature vectors \n",
    "\n",
    "## MLlib and Spark.ml\n",
    "\n",
    "Spark's machine learning libraries are divided into two packages, MLlib and spark.ml\n",
    "\n",
    "-\tMLlib is older, and is built on top of RDDs\n",
    "-\tspark.ml is built on top of DataFrames, and can be used to construct ML pipelines\n",
    "-\tIn cases where MLlib and spark.ml offer equivalent functionality, this course will focus on spark.ml\n",
    "\n",
    "\n",
    "Feature Vectors for Supervised Learning in MLlib and Spark.ml\n",
    "\n",
    "-\tMLlib\n",
    "-\tThe models in MLlib are designed to work with `RDD[LabeledPoint]` objects, which associates labels with feature vectors\n",
    "-\tspark.ml\n",
    "  -\tThe models in spark.ml are designed to work with DataFrames\n",
    "  -\tA basic spark.ml `DataFrame` will (by default) have two columns:\n",
    "    - a label column (default name: \"label\")\n",
    "    -\ta feature column (default name: \"features\")\n",
    "\n",
    "\n",
    "## Creating Feature Vectors I\n",
    "\n",
    "The output of your ETL process might be a DataFrame with various columns. \n",
    "For example, you might want to try to predict churn based\n",
    "on number of sessions, revenue, and recency:"
   ]
  },
  {
   "cell_type": "code",
   "execution_count": null,
   "metadata": {
    "attributes": {
     "classes": [
      "scala"
     ],
     "id": ""
    }
   },
   "outputs": [],
   "source": [
    "import org.apache.spark.sql.SparkSession\n",
    "val spark = SparkSession.builder().getOrCreate()\n",
    "import spark.implicits._"
   ]
  },
  {
   "cell_type": "code",
   "execution_count": null,
   "metadata": {
    "attributes": {
     "classes": [
      "scala"
     ],
     "id": ""
    }
   },
   "outputs": [],
   "source": [
    "//Creating Feature Vectors II\n",
    "import  org.apache.spark.sql.functions._\n",
    "\n",
    "case class  Customer(churn: Int, sessions: Int, revenue: Double, recency: Int)\n",
    "\n",
    "val customers = {\n",
    "  spark.createDataFrame(\n",
    "  Seq(Customer(1, 20, 61.24, 103),\n",
    "  Customer(1, 8, 80.64, 23),\n",
    "  Customer(0, 4, 100.94, 42),\n",
    "  Customer(1, 17, 120.56, 47))).toDF()\n",
    "}\n",
    "customers.show()"
   ]
  },
  {
   "cell_type": "code",
   "execution_count": null,
   "metadata": {
    "attributes": {
     "classes": [
      "scala"
     ],
     "id": ""
    }
   },
   "outputs": [],
   "source": [
    "// Creating Feature Vectors III \n",
    "import org.apache.spark.ml.feature.VectorAssembler\n",
    "\n",
    "val  assembler = new VectorAssembler().setInputCols(Array(\"sessions\", \"revenue\", \"recency\")).setOutputCol(\"features\")\n",
    "val dfWithFeatures = assembler.transform(customers)"
   ]
  },
  {
   "cell_type": "code",
   "execution_count": null,
   "metadata": {
    "attributes": {
     "classes": [
      "scala"
     ],
     "id": ""
    }
   },
   "outputs": [],
   "source": [
    "dfWithFeatures.show()"
   ]
  },
  {
   "cell_type": "code",
   "execution_count": null,
   "metadata": {
    "attributes": {
     "classes": [
      "scala"
     ],
     "id": ""
    }
   },
   "outputs": [],
   "source": [
    "// VectorSlicers \n",
    "import  org.apache.spark.ml.feature.VectorSlicer\n",
    "// take two samples \n",
    "val slicer = new VectorSlicer().setInputCol(\"features\").setOutputCol(\"some_features\")\n",
    "slicer.setIndices(Array(0, 1)).transform(dfWithFeatures).show()\n"
   ]
  },
  {
   "cell_type": "markdown",
   "metadata": {},
   "source": [
    "## Lesson Summary \n",
    "\n",
    "-\tHaving completed this lesson, you should now be able to:\n",
    "-\tUnderstand how feature vectors fit into the APIs for Spark's MLlib and spark.ml libraries\n",
    "-\tAssemble feature vectors \n",
    "-\tExtract specific dimensions from feature vectors\n",
    "\n",
    "### About the Authors\n",
    "\n",
    "[Petro Verkhogliad](https://www.linkedin.com/in/vpetro) is Consulting Manager at Lightbend. He holds a Masters degree in Computer Science with specialization in Intelligent Systems. He is passionate about functional programming and applications of AI."
   ]
  },
  {
   "cell_type": "code",
   "execution_count": null,
   "metadata": {},
   "outputs": [],
   "source": []
  }
 ],
 "metadata": {
  "kernelspec": {
   "display_name": "Apache Toree - Scala",
   "language": "scala",
   "name": "apache_toree_scala"
  },
  "language_info": {
   "codemirror_mode": "text/x-scala",
   "file_extension": ".scala",
   "mimetype": "text/x-scala",
   "name": "scala",
   "pygments_lexer": "scala",
   "version": "2.11.12"
  }
 },
 "nbformat": 4,
 "nbformat_minor": 2
}
