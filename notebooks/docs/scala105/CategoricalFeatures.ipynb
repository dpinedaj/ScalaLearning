{
 "cells": [
  {
   "cell_type": "markdown",
   "metadata": {},
   "source": [
    "<a href=\"https://cocl.us/Data_Science_with_Scalla_top\"><img src = \"https://s3-api.us-geo.objectstorage.softlayer.net/cf-courses-data/CognitiveClass/SC0103EN/adds/Data_Science_with_Scalla_notebook_top.png\" width = 750, align = \"center\"></a>\n",
    " <br/>\n",
    "<a><img src=\"https://ibm.box.com/shared/static/ugcqz6ohbvff804xp84y4kqnvvk3bq1g.png\" width=\"200\" align=\"center\"></a>\"\n",
    "\n",
    "# Module 3: Feature Engineering - Categorical Features\n",
    "\n",
    "## Categorical Features\n",
    "\n",
    "### Lesson Objectives \n",
    "\n",
    "After completing this lesson, you should be able to: \n",
    "\n",
    "- encode categorical features with Spark's `StringIndexer`\n",
    "-\tencode categorical features with Spark's `OneHotEncoder`\n",
    "-\tknow how to use each of these Motivation \n",
    "-\tCategorical variables can take on only a limited number of possible values, like country, or gender\n",
    "-\tThey represent reality. You don't have infinite variation in between countries. You do have infinite values between two integers\n",
    "-\tCategories are less useful than integers for computations. So internally a computer will 'translate' categorical variables to integers\n",
    "\n",
    "\n",
    "### Motivation\n",
    "\n",
    "-\tIn R you have factors \n",
    "-\tIn python pandas you have the categorical data type. What is the equivalent structure in Spark?\n",
    "-\tThese structures usually map strings to integers in a way that makes future computations easier. In this video we will see how Spark does it\n",
    "\n",
    "\n",
    "### Why Are Integers Better?\n",
    "\n",
    "-\tSpark's classifiers and regressors only work with numerical features; string features must be converted to numbers a `StringIndexer`\n",
    "-\tThis helps keep Spark's internals simpler and more efficient\n",
    "-\tThere's little cost in transforming categorical features to numbers, and then back to strings"
   ]
  },
  {
   "cell_type": "code",
   "execution_count": null,
   "metadata": {
    "attributes": {
     "classes": [
      "scala"
     ],
     "id": ""
    }
   },
   "outputs": [],
   "source": [
    "import org.apache.spark.sql.SparkSession\n",
    "val spark = SparkSession.builder().getOrCreate()\n",
    "import spark.implicits._"
   ]
  },
  {
   "cell_type": "code",
   "execution_count": null,
   "metadata": {
    "attributes": {
     "classes": [
      "scala"
     ],
     "id": ""
    }
   },
   "outputs": [],
   "source": [
    "// Using a StingIndexer\n",
    "\n",
    "val  df = spark.createDataFrame( Seq((0, \"US\"), (1, \"UK\"), (2, \"FR\"), (3, \"US\"), (4, \"US\"), (5, \"FR\") )).toDF(\"id\", \"nationality\")\n",
    "df.show()"
   ]
  },
  {
   "cell_type": "code",
   "execution_count": null,
   "metadata": {
    "attributes": {
     "classes": [
      "scala"
     ],
     "id": ""
    }
   },
   "outputs": [],
   "source": [
    "// Understanding the Output of a StringIndexer\n",
    "import  org.apache.spark.ml.feature.StringIndexer\n",
    "\n",
    "val  indexer = new StringIndexer().setInputCol(\"nationality\").setOutputCol(\"nIndex\")\n",
    "val  indexed = indexer.fit(df).transform(df)\n",
    "indexed.show()"
   ]
  },
  {
   "cell_type": "markdown",
   "metadata": {},
   "source": [
    "### Reversing the Mapping \n",
    "\n",
    "-\tThe classifiers in MLlib and spark.ml will predict numeric values that correspond to the index values\n",
    "-\t`IndexToString` is what you'll need to transform these numbers back into your original labels"
   ]
  },
  {
   "cell_type": "code",
   "execution_count": null,
   "metadata": {
    "attributes": {
     "classes": [
      "scala"
     ],
     "id": ""
    }
   },
   "outputs": [],
   "source": [
    "// IndexToString Example \n",
    "\n",
    "import  org.apache.spark.ml.feature.IndexToString\n",
    "val converter = new IndexToString().setInputCol(\"predictedIndex\").setOutputCol(\"predictedNationality\")\n",
    "val  predictions = indexed.selectExpr(\"nIndex as predictedIndex\")\n",
    "converter.transform(predictions).show()"
   ]
  },
  {
   "cell_type": "markdown",
   "metadata": {},
   "source": [
    "### OneHotEncoding\n",
    "\n",
    "-\tSuppose we are trying to fit a linear regressor that uses nationality as a feature\n",
    "-\tIt would be impossible to learn a weight for this one feature that can distinguish between the 3 nationalities in our dataset\n",
    "- It's better to instead have a separate Boolean feature for each nationality, and learn weights for those features independently\n",
    "\n",
    "\n",
    "### Spark's OneHotEncoder \n",
    "\n",
    "-\tThe `OneHotEncoder` creates a sparse vector column, with each dimension of this vector of Booleans representing one of the possible values of the original feature"
   ]
  },
  {
   "cell_type": "code",
   "execution_count": null,
   "metadata": {
    "attributes": {
     "classes": [
      "scala"
     ],
     "id": ""
    }
   },
   "outputs": [],
   "source": []
  },
  {
   "cell_type": "code",
   "execution_count": null,
   "metadata": {
    "attributes": {
     "classes": [
      "scala"
     ],
     "id": ""
    }
   },
   "outputs": [],
   "source": [
    "// Using a OneHotEncoder \n",
    "import  org.apache.spark.ml.feature.OneHotEncoder\n",
    "val encoder = new OneHotEncoder().setInputCol(\"nIndex\").setOutputCol(\"nVector\")\n",
    "val  encoded = encoder.transform(indexed)\n",
    "encoded.show()"
   ]
  },
  {
   "cell_type": "code",
   "execution_count": null,
   "metadata": {
    "attributes": {
     "classes": [
      "scala"
     ],
     "id": ""
    }
   },
   "outputs": [],
   "source": []
  },
  {
   "cell_type": "code",
   "execution_count": null,
   "metadata": {
    "attributes": {
     "classes": [
      "scala"
     ],
     "id": ""
    }
   },
   "outputs": [],
   "source": [
    "// The dropLast Option\n",
    "\n",
    "val  encoder = new OneHotEncoder().setInputCol(\"nIndex\").\n",
    "setOutputCol(\"nVector\").setDropLast(false) \n",
    "\n",
    "val encoded = encoder.transform(indexed)\n",
    "encoded.show()"
   ]
  },
  {
   "cell_type": "markdown",
   "metadata": {},
   "source": [
    "### Lesson Summary\n",
    "\n",
    "-\tHaving completed this lesson, you should now be able to:\n",
    "- encode categorical features with Spark's `StringIndexer`\n",
    "-\tencode categorical features with Spark's `OneHotEncoder` \n",
    "-\tknow when to use each of these\n",
    "\n",
    "### About the Authors\n",
    "\n",
    "[Petro Verkhogliad](https://www.linkedin.com/in/vpetro) is Consulting Manager at Lightbend. He holds a Masters degree in Computer Science with specialization in Intelligent Systems. He is passionate about functional programming and applications of AI."
   ]
  },
  {
   "cell_type": "code",
   "execution_count": null,
   "metadata": {},
   "outputs": [],
   "source": []
  }
 ],
 "metadata": {
  "kernelspec": {
   "display_name": "Apache Toree - Scala",
   "language": "scala",
   "name": "apache_toree_scala"
  },
  "language_info": {
   "codemirror_mode": "text/x-scala",
   "file_extension": ".scala",
   "mimetype": "text/x-scala",
   "name": "scala",
   "pygments_lexer": "scala",
   "version": "2.11.12"
  }
 },
 "nbformat": 4,
 "nbformat_minor": 2
}
