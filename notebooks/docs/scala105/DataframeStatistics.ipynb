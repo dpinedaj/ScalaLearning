{
 "cells": [
  {
   "cell_type": "markdown",
   "metadata": {},
   "source": [
    "<a href=\"https://cocl.us/Data_Science_with_Scalla_top\"><img src = \"https://s3-api.us-geo.objectstorage.softlayer.net/cf-courses-data/CognitiveClass/SC0103EN/adds/Data_Science_with_Scalla_notebook_top.png\" width = 750, align = \"center\"></a>\n",
    " <br/>\n",
    "<a><img src=\"https://ibm.box.com/shared/static/ugcqz6ohbvff804xp84y4kqnvvk3bq1g.png\" width=\"200\" align=\"center\"></a>\"\n",
    "\n",
    "# Module 2: Preparing Data\n",
    "\n",
    "## Statistics, Random data and Sampling on Data Frames\n",
    "\n",
    "### Lesson Objectives \n",
    "\n",
    "After completing this lesson, you should be able to: \n",
    "\n",
    "- Compute column summary statistics\n",
    "-\tCompute pairwise statistics between series/columns\n",
    "-\tPerform standard sampling on any `DataFrame` \n",
    "-\tSplit any `DataFrame` randomly into subsets\n",
    "-\tPerform stratified sampling onto `DataFrames`\n",
    "-\tGenerate Random Data from Uniform and Normal Distributions \n",
    "\n",
    "\n",
    "## Summary Statistics for DataFrames \n",
    "\n",
    "-\tColumn summary statistics for DataFrames are available through DataFrame's `describe()` method\n",
    "-\tIt returns another `DataFrame`, which contains column-wise results for: \n",
    "-\t`min`, `max`\n",
    "-\t`mean`, `stddev`\n",
    "-\t`count`\n",
    "- Column summary statistics can also be computed through DataFrame's `groupBy()` and `agg()` methods, but stddev is not supported\n",
    "-\tIt also returns another `DataFrame` with the results"
   ]
  },
  {
   "cell_type": "code",
   "execution_count": null,
   "metadata": {
    "attributes": {
     "classes": [
      "scala"
     ],
     "id": ""
    }
   },
   "outputs": [],
   "source": [
    "import org.apache.spark.sql.SparkSession\n",
    "val spark = SparkSession.builder().getOrCreate()\n",
    "import spark.implicits._"
   ]
  },
  {
   "cell_type": "code",
   "execution_count": null,
   "metadata": {
    "attributes": {
     "classes": [
      "scala"
     ],
     "id": ""
    }
   },
   "outputs": [],
   "source": [
    "case class Record(desc: String, value1: Int, value2: Double)\n",
    "\n",
    "val records = Array(Record(\"first\",1,3.7), Record(\"second\",-2,2.1), Record(\"third\",6,0.7))\n",
    "\n",
    "val recRDD = sc.parallelize(records)\n",
    "val recDF = spark.createDataFrame(recRDD)\n",
    "recDF.show()\n",
    "\n",
    "val recStats = recDF.describe()\n",
    "recStats.show()"
   ]
  },
  {
   "cell_type": "code",
   "execution_count": null,
   "metadata": {
    "attributes": {
     "classes": [
      "scala"
     ],
     "id": ""
    }
   },
   "outputs": [],
   "source": [
    "// Fetching Results from DataFrame\n",
    "\n",
    "recStats.filter($\"summary\" === \"stddev\").first()\n",
    "  \n",
    "val ar1 = recStats.filter($\"summary\" === \"stddev\").first().toSeq.drop(2).map(_.toString.toDouble).toArray\n",
    "println(ar1)\n",
    " \n",
    "val ar2 = recStats.select(\"value1\").map(s => s(0).toString.toDouble).collect()\n",
    "println(ar2)"
   ]
  },
  {
   "cell_type": "code",
   "execution_count": null,
   "metadata": {
    "attributes": {
     "classes": [
      "scala"
     ],
     "id": ""
    }
   },
   "outputs": [],
   "source": [
    "recDF.groupBy().agg(Map(\"value1\" -> \"min\", \"value1\" -> \"max\" ))\n",
    " \n",
    "recDF.groupBy().agg(Map(\"value1\" -> \"min\", \"value2\" -> \"min\"))"
   ]
  },
  {
   "cell_type": "code",
   "execution_count": null,
   "metadata": {
    "attributes": {
     "classes": [
      "scala"
     ],
     "id": ""
    }
   },
   "outputs": [],
   "source": [
    "import org.apache.spark.sql.functions._\n",
    "\n",
    "val recStatsGroup = recDF.groupBy().agg(min(\"value1\"), min(\"value2\"))\n",
    "\n",
    "recStatsGroup.columns\n",
    " \n",
    "recStatsGroup.first().toSeq.toArray.map(_.toString.toDouble)\n"
   ]
  },
  {
   "cell_type": "markdown",
   "metadata": {},
   "source": [
    "## More Statistics on DataFrames \n",
    "\n",
    "-\tMore statistics are available through the stats method in a DataFrame \n",
    "-\tIt returns a `DataFrameStatsFunctions` object, which has the following methods:\n",
    "-\t`corr()` - computes Pearson correlation between two columns\n",
    "-\t`cov()` - computes sample covariance between two columns\n",
    "- `crosstab()` - Computes a pair-wise frequency table of the given columns \n",
    "- `freqItems()` - finds frequent items for columns, possibly with false positives"
   ]
  },
  {
   "cell_type": "code",
   "execution_count": null,
   "metadata": {
    "attributes": {
     "classes": [
      "scala"
     ],
     "id": ""
    }
   },
   "outputs": [],
   "source": [
    "val  recDFStat = recDF.stat\n",
    "\n",
    "println(\"correlation value1 and value2\",recDFStat.corr(\"value1\", \"value2\"))\n",
    "println(\"correlation value1 and value2\",recDFStat.cov(\"value1\", \"value2\"))\n",
    "recDFStat.freqItems(Seq(\"value1\"), 0.3) .show()"
   ]
  },
  {
   "cell_type": "markdown",
   "metadata": {},
   "source": [
    "## Sampling on DataFrames \n",
    "\n",
    "-\tCan be performed on any `DataFrame`\n",
    "-\tReturns a sampled subset of a `DataFrame`\n",
    "-\tSampling with or without replacement\n",
    "- Fraction: expected fraction of rows to generate\n",
    "-\tCan be used on bootstrapping procedures"
   ]
  },
  {
   "cell_type": "code",
   "execution_count": null,
   "metadata": {
    "attributes": {
     "classes": [
      "scala"
     ],
     "id": ""
    }
   },
   "outputs": [],
   "source": [
    "\n",
    "val df = spark.createDataFrame(Seq((1, 10), (1, 20), (2, 10), (2, 20), (2, 30), (3, 20), (3, 30))).toDF(\"key\", \"value\")\n",
    "df.show()\n",
    "val dfSampled = df.sample(withReplacement=false, fraction=0.3, seed=11L)\n",
    "dfSampled.show()"
   ]
  },
  {
   "cell_type": "markdown",
   "metadata": {},
   "source": [
    "## Random Split on DataFrames\n",
    "\n",
    "-\tCan be performed on any DataFrame\n",
    "-\tReturns an array of DataFrames\n",
    "-\tWeighs for the split will be normalized if the do not add up to 1\n",
    "-\tUseful for splitting a data set into training, test and validation sets"
   ]
  },
  {
   "cell_type": "code",
   "execution_count": null,
   "metadata": {
    "attributes": {
     "classes": [
      "scala"
     ],
     "id": ""
    }
   },
   "outputs": [],
   "source": [
    "val dfSplit = df.randomSplit(weights=Array(0.3, 0.7), seed=11L) \n",
    "\n",
    "dfSplit(0).show()\n",
    "dfSplit(1).show()"
   ]
  },
  {
   "cell_type": "markdown",
   "metadata": {},
   "source": [
    "## Stratified Sampling on DataFrames \n",
    "\n",
    "-\tCan be performed on any `DataFrame` \n",
    "- Any column may work as key\n",
    "-\tWithout replacement\n",
    "-\tFraction: specified by key\n",
    "-\tAvailable as `sampleBy` function in `DataFrameStatFunctions`"
   ]
  },
  {
   "cell_type": "code",
   "execution_count": null,
   "metadata": {
    "attributes": {
     "classes": [
      "scala"
     ],
     "id": ""
    }
   },
   "outputs": [],
   "source": [
    "df.stat.\n",
    "    sampleBy(col=\"key\",\n",
    "    fractions=Map(1 -> 0.7, 2 -> 0.7, 3 -> 0.7),\n",
    "    seed=11L).show()"
   ]
  },
  {
   "cell_type": "markdown",
   "metadata": {},
   "source": [
    "## Random Data Generation \n",
    "\n",
    "-\tSQL functions to generate columns filled with random values \n",
    "-\tTwo supported distributions: uniform and normal\n",
    "-\tUseful for randomized algorithms, prototyping and performance testing"
   ]
  },
  {
   "cell_type": "code",
   "execution_count": null,
   "metadata": {
    "attributes": {
     "classes": [
      "scala"
     ],
     "id": ""
    }
   },
   "outputs": [],
   "source": [
    "\n",
    "import  org.apache.spark.sql.functions.{rand, randn}\n",
    "\n",
    "val df = spark.range(0, 10)\n",
    "\n",
    "df.select(\"id\").withColumn(\"uniform\", rand(10L)).\n",
    "    withColumn(\"normal\", randn(10L)).show()"
   ]
  },
  {
   "cell_type": "markdown",
   "metadata": {},
   "source": [
    "## Lesson Summary\n",
    "\n",
    "-\tHaving completed this lesson, you should be able to:\n",
    "- Compute column summary statistics \n",
    "-\tCompute pairwise statistics between series/columns\n",
    "-\tPerform standard sampling on any `DataFrame` \n",
    "-\tSplit any `DataFrame` randomly into subsets \n",
    "-\tPerform stratified sampling on `DataFrames`\n",
    "-\tGenerate Random Data from Uniform and Normal Distributions\n",
    "\n",
    "### About the Authors\n",
    "\n",
    "[Petro Verkhogliad](https://www.linkedin.com/in/vpetro) is Consulting Manager at Lightbend. He holds a Masters degree in Computer Science with specialization in Intelligent Systems. He is passionate about functional programming and applications of AI."
   ]
  }
 ],
 "metadata": {
  "kernelspec": {
   "display_name": "Apache Toree - Scala",
   "language": "scala",
   "name": "apache_toree_scala"
  },
  "language_info": {
   "codemirror_mode": "text/x-scala",
   "file_extension": ".scala",
   "mimetype": "text/x-scala",
   "name": "scala",
   "pygments_lexer": "scala",
   "version": "2.11.12"
  }
 },
 "nbformat": 4,
 "nbformat_minor": 2
}
