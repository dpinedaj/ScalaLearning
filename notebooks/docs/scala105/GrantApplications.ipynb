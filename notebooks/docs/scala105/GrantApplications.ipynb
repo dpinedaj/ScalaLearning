{
 "cells": [
  {
   "cell_type": "markdown",
   "metadata": {},
   "source": [
    "<a href=\"https://cocl.us/Data_Science_with_Scalla_top\"><img src = \"https://s3-api.us-geo.objectstorage.softlayer.net/cf-courses-data/CognitiveClass/SC0103EN/adds/Data_Science_with_Scalla_notebook_top.png\" width = 750, align = \"center\"></a>\n",
    " <br/>\n",
    "<a><img src=\"https://ibm.box.com/shared/static/ugcqz6ohbvff804xp84y4kqnvvk3bq1g.png\" width=\"200\" align=\"center\"></a>\"\n",
    "\n",
    "# Module 5: Pipeline and Grid Search\n",
    "\n",
    "## Predicting Grant Applications: Introduction\n",
    "\n",
    "### Lesson Objectives\n",
    "\n",
    "* After completing this lesson, you should be able to:\n",
    "  - Understand how to fit together the functions available in Spark's machine learning libraries to solve real problems\n",
    "  - Use a Spark cluster to fit models in a fraction of the time\n",
    "  \n",
    "### Examples in thie Module\n",
    "\n",
    "* This module contains 5 lessons\n",
    "* Examples in later lessons follow on from previous lessons in this module\n",
    "  - e.g. Examples in lesson 3 follow on from lessons 1 and 2\n",
    "  \n",
    "### Lesson Objectives\n",
    "\n",
    "* After completing this lesson, you should be able to:\n",
    "  - Understand, in a general way, the data available in the grant application dataset\n",
    "  - Appreciate the problem being solved\n",
    "  - Propose some features that might be good predictions\n",
    "  \n",
    "### The Dataset and Problem\n",
    "\n",
    "* Dataset\n",
    "  -8708 grant applications from the University of Melbourne, 3992 of which were successful\n",
    "  - the 17594 researchers involved in those applications\n",
    "  - <https://www.kaggle.com/c/unimelb>\n",
    "* Problem\n",
    "  - Predict if a grant application will be successful\n",
    "  \n",
    "### Data About Grants\n",
    "\n",
    "* Grant_Application_ID (int)\n",
    "* Grant_Status (int)\n",
    "  - Whether or not the grant application was successful\n",
    "* Contract_Value_Band (string)\n",
    "  - The amount of the grant, bucketized into ranges\n",
    "* Grant_Category_Code (string)\n",
    "  - Categorization of the sponsor (e.g. Australian competitive grants, cooperative research centre, industry)\n",
    "  \n",
    "### Data Aobut Researchers\n",
    "\n",
    "* Role (string)\n",
    "  - The individual researcher's role in the propsed research\n",
    "* Year_of_Birth (int)\n",
    "* Dept_No (string)\n",
    "* With_PHD (string)\n",
    "* Number_of_Successful_Grant (int)\n",
    "* Number_of_Unsuccessful_Grant (int)\n",
    "* A2, A, B, C (four int columns)\n",
    "  - Number of articles published in journals of various quality (A2 being the most prestigious, C the least)\n",
    "  \n",
    "### Basic Setup"
   ]
  },
  {
   "cell_type": "code",
   "execution_count": null,
   "metadata": {
    "attributes": {
     "classes": [
      "scala"
     ],
     "id": ""
    }
   },
   "outputs": [],
   "source": [
    "import sys.process._\n",
    "\"wget https://s3-api.us-geo.objectstorage.softlayer.net/cf-courses-data/CognitiveClass/SC0105EN/data/grantsPeople.csv  -P /resources/data/\"!"
   ]
  },
  {
   "cell_type": "code",
   "execution_count": null,
   "metadata": {
    "attributes": {
     "classes": [
      "scala"
     ],
     "id": ""
    }
   },
   "outputs": [],
   "source": [
    "import org.apache.spark.sql.SparkSession\n",
    "val spark = SparkSession.builder().getOrCreate()\n",
    "import spark.implicits._\n",
    "import org.apache.spark.sql.functions._"
   ]
  },
  {
   "cell_type": "markdown",
   "metadata": {},
   "source": [
    "### Loading the Data"
   ]
  },
  {
   "cell_type": "code",
   "execution_count": null,
   "metadata": {
    "attributes": {
     "classes": [
      "scala"
     ],
     "id": ""
    }
   },
   "outputs": [],
   "source": [
    "val data = spark.read.\n",
    "  format(\"com.databricks.spark.csv\").\n",
    "  option(\"delimiter\", \"\\t\").\n",
    "  option(\"header\", \"true\").\n",
    "  option(\"inferSchema\", \"true\").\n",
    "  load(\"/resources/data/grantsPeople.csv\")"
   ]
  },
  {
   "cell_type": "code",
   "execution_count": null,
   "metadata": {
    "attributes": {
     "classes": [
      "scala"
     ],
     "id": ""
    }
   },
   "outputs": [],
   "source": [
    "data.show()"
   ]
  },
  {
   "cell_type": "markdown",
   "metadata": {},
   "source": [
    "### Plan of Attack?\n",
    "\n",
    "* Before continuing to the next lesson, think about\n",
    "  - We want to have features that are good predictors for each grant\n",
    "  - How can we create features about grants from the data about the researchers?\n",
    "  - Which values in the dataset might make good predictors?\n",
    "  \n",
    "\n",
    "### About the Authors\n",
    "\n",
    "[Petro Verkhogliad](https://www.linkedin.com/in/vpetro) is Consulting Manager at Lightbend. He holds a Masters degree in Computer Science with specialization in Intelligent Systems. He is passionate about functional programming and applications of AI."
   ]
  }
 ],
 "metadata": {
  "kernelspec": {
   "display_name": "Apache Toree - Scala",
   "language": "scala",
   "name": "apache_toree_scala"
  },
  "language_info": {
   "codemirror_mode": "text/x-scala",
   "file_extension": ".scala",
   "mimetype": "text/x-scala",
   "name": "scala",
   "pygments_lexer": "scala",
   "version": "2.11.12"
  }
 },
 "nbformat": 4,
 "nbformat_minor": 2
}
