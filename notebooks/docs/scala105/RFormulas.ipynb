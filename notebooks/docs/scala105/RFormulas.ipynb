{
 "cells": [
  {
   "cell_type": "markdown",
   "metadata": {},
   "source": [
    "<a href=\"https://cocl.us/Data_Science_with_Scalla_top\"><img src = \"https://s3-api.us-geo.objectstorage.softlayer.net/cf-courses-data/CognitiveClass/SC0103EN/adds/Data_Science_with_Scalla_notebook_top.png\" width = 750, align = \"center\"></a>\n",
    " <br/>\n",
    "<a><img src=\"https://ibm.box.com/shared/static/ugcqz6ohbvff804xp84y4kqnvvk3bq1g.png\" width=\"200\" align=\"center\"></a>\"\n",
    "\n",
    "# Module 3: Feature Engineering \n",
    "\n",
    "\n",
    "## RFormulas\n",
    "\n",
    "\n",
    "### Lesson Objectives:\n",
    "\n",
    "- After completing this lesson, you should be able to: \n",
    "-\tUnderstand why RFormula exist \n",
    "-\tUnderstand RFormula notation \n",
    "-\tUnderstand the transformations of RFormula produces on linear models \n",
    "-\tUse RFormula on a real world example RFormula\n",
    "-\tIn modelling we often define a variable (criterion) as a function of other variables (predictors)\n",
    "-\tThe pseudocode for this (very close to more traditional math notation) could be:"
   ]
  },
  {
   "cell_type": "code",
   "execution_count": null,
   "metadata": {
    "attributes": {
     "classes": [
      "scala"
     ],
     "id": ""
    }
   },
   "outputs": [],
   "source": [
    "import org.apache.spark.sql.SparkSession\n",
    "val spark = SparkSession.builder().getOrCreate()\n",
    "import spark.implicits._\n",
    "import org.apache.spark.sql.functions._"
   ]
  },
  {
   "cell_type": "code",
   "execution_count": null,
   "metadata": {
    "attributes": {
     "classes": [
      "scala"
     ],
     "id": ""
    }
   },
   "outputs": [],
   "source": [
    "val crimes = spark.read.\n",
    "    format(\"com.databricks.spark.csv\").\n",
    "    option(\"delimiter\", \",\").\n",
    "    option(\"header\", \"true\").\n",
    "    option(\"inferSchema\", \"true\").\n",
    "    load(\"UScrime2-colsLotsOfNAremoved.csv\")\n"
   ]
  },
  {
   "cell_type": "code",
   "execution_count": null,
   "metadata": {
    "attributes": {
     "classes": [
      "scala"
     ],
     "id": ""
    }
   },
   "outputs": [],
   "source": [
    "import org.apache.spark.ml.feature.RFormula \n",
    "\n",
    "val formula = new RFormula().setFormula(\"ViolentCrimesPerPop ~ householdsize + PctLess9thGrade + pctWWage\").setFeaturesCol(\"features\").setLabelCol(\"label\")"
   ]
  },
  {
   "cell_type": "code",
   "execution_count": null,
   "metadata": {
    "attributes": {
     "classes": [
      "scala"
     ],
     "id": ""
    }
   },
   "outputs": [],
   "source": [
    "// Real Data Example \n",
    "\n",
    "val output = formula.fit(crimes).transform(crimes)\n",
    "output.select(\"features\", \"label\").show(3)"
   ]
  },
  {
   "cell_type": "markdown",
   "metadata": {},
   "source": [
    "### Advantages \n",
    "\n",
    "-\tYou can see how `RFormula` is very handy shorthand to write quite elaborated models \n",
    "-\tIt started in the R world used only on linear models. With time, other models (example, random forests) started using formula notation to specify models.\n",
    "-\t`RFormula` simplifies the creation of ML pipelines by providing a concise way of expressing complex feature transformations\n",
    "\n",
    "\n",
    "### Lesson Summary \n",
    "\n",
    "- Having completed this lesson, you should be able to: \n",
    "-\tUnderstand the `RFormula` interface to model fitting \n",
    "-\tFit a model using the formula interface\n",
    "\n",
    "### About the Authors\n",
    "\n",
    "[Petro Verkhogliad](https://www.linkedin.com/in/vpetro) is Consulting Manager at Lightbend. He holds a Masters degree in Computer Science with specialization in Intelligent Systems. He is passionate about functional programming and applications of AI."
   ]
  }
 ],
 "metadata": {
  "kernelspec": {
   "display_name": "Apache Toree - Scala",
   "language": "scala",
   "name": "apache_toree_scala"
  },
  "language_info": {
   "codemirror_mode": "text/x-scala",
   "file_extension": ".scala",
   "mimetype": "text/x-scala",
   "name": "scala",
   "pygments_lexer": "scala",
   "version": "2.11.12"
  }
 },
 "nbformat": 4,
 "nbformat_minor": 2
}
